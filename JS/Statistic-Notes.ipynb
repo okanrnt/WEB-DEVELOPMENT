{
 "cells": [
  {
   "cell_type": "code",
   "execution_count": 1,
   "id": "af5ec05e",
   "metadata": {},
   "outputs": [],
   "source": [
    "from scipy import stats\n",
    "import numpy as np\n",
    "import matplotlib.pyplot as plt\n",
    "import pandas as pd"
   ]
  },
  {
   "cell_type": "markdown",
   "id": "94b5cef6",
   "metadata": {},
   "source": [
    "**`Olasılık:`**Olayların olabilirliğinin sayısal ifadesidir. Bir olayın meydana gelmesi için uygun durum sayısının o konuda oluşabilecek tüm elverişli durum sayısına oranıdır.\n",
    "\n",
    "Değerlerini bir deneyin sonuçlarından alan değişkene rassal değişken denir. Mesela paranın atılması deneyinde yazı ya da      tura gelmesi discrite(kesikli,ayrık) rassal değişkendir. Sürekli rassal değişkene örnek ise maaş, kazanç vb.\n",
    "    \n",
    "**`Dağılım:`** Evrende bazı olaylar ya da durumlar gerçekleşiyor bu olaylar ya da durumların sayısal karşılıklarının ortaya çıkarttıkları yapıya **dağılım** denir.\n",
    "\n",
    "**`Olasılık Dağılımı:`**Bir rassal olaya ait değerler ve bu değerlerin gerçekleşme olasılıklarının bir arada ifade edilmesine **olasılık dağılımı** denir.\n",
    "\n",
    "**`Olasılık Fonksiyonu:`** Bir değişkenin herhangi bir değeri alması olasılığını hesaplamaya yarayan fonksiyondur.\n",
    "\n",
    "\n",
    "${p^3}$ ÖRNEK YAPTIM. ANLAMI YOK BUNUN"
   ]
  },
  {
   "cell_type": "markdown",
   "id": "df4be2ac",
   "metadata": {},
   "source": [
    "## Bernoulli Deneyi"
   ]
  },
  {
   "cell_type": "markdown",
   "id": "d55f034d",
   "metadata": {},
   "source": [
    "**Başarılı-başarısız, olumlu-olumsuz şeklindeki iki sonuçlu olaylar ile ilgilenildiğinde kullanılan kesikli olasılık dağılımıdır.**\n",
    "\n",
    "- Veri bilimcinin amacı belirsizlik altında karar vermektir. Buna yönelik olarak bazı tekniklerle belirsizliği azaltmaya çalışıyoruz. Bu belirsizliği azaltmaya çalıştığımız yaklaşımlardan birisi de olasılık dağılımları. Olasılık dağılımları bize bazı değerlerin ne şekilde hangi olasılıklarla gerçekleşebileceğine yönelik fikir verir. Örneğin 5 günde şu olayın gerçekleşme olasılığı, satışlarımızın şu değerden fazla olması olasılığı gibi... Kesikli ve sürekli değişkenler çerçevesinde gerçekleştiriyor olacağız.\n",
    "\n",
    "Ortalama ve varyans ifadeleleri dağılımın merkezini ve o merkez etrafındaki dağılımını ifade eder."
   ]
  },
  {
   "cell_type": "code",
   "execution_count": 2,
   "id": "ed9f800c",
   "metadata": {},
   "outputs": [],
   "source": [
    "p = 0.5 # yazı çekme olasılığı"
   ]
  },
  {
   "cell_type": "code",
   "execution_count": 3,
   "id": "121e6c59",
   "metadata": {},
   "outputs": [],
   "source": [
    "dagilim = stats.bernoulli(p) # kesikli dağılım"
   ]
  },
  {
   "cell_type": "code",
   "execution_count": 4,
   "id": "3660ff75",
   "metadata": {},
   "outputs": [
    {
     "name": "stdout",
     "output_type": "stream",
     "text": [
      "Yazı gelme olasılığı 0.5 iken tura gelme olasılığı 0.5 dir\n"
     ]
    }
   ],
   "source": [
    "# pmf = probability mass function\n",
    "# yazı gelmesini istiyorum\n",
    "pT = dagilim.pmf(k = 0) \n",
    "pY = dagilim.pmf(k = 1)\n",
    "\n",
    "print('Yazı gelme olasılığı {} iken tura gelme olasılığı {} dir'.format(pT,pY))"
   ]
  },
  {
   "cell_type": "code",
   "execution_count": 5,
   "id": "a5684894",
   "metadata": {
    "scrolled": true
   },
   "outputs": [
    {
     "data": {
      "text/plain": [
       "0.5"
      ]
     },
     "execution_count": 5,
     "metadata": {},
     "output_type": "execute_result"
    }
   ],
   "source": [
    "# E[x] = p\n",
    "dagilim.expect()"
   ]
  },
  {
   "cell_type": "code",
   "execution_count": 6,
   "id": "48194120",
   "metadata": {},
   "outputs": [
    {
     "data": {
      "text/plain": [
       "0.5"
      ]
     },
     "execution_count": 6,
     "metadata": {},
     "output_type": "execute_result"
    }
   ],
   "source": [
    "# Var(x) = p*(1-p)\n",
    "dagilim.expect()"
   ]
  },
  {
   "cell_type": "code",
   "execution_count": 7,
   "id": "163c02eb",
   "metadata": {},
   "outputs": [
    {
     "name": "stdout",
     "output_type": "stream",
     "text": [
      "5 gelme olasılığı 0.16666666666666669 iken 5 gelmeme olasılığı 0.8333333333333334 dir\n"
     ]
    }
   ],
   "source": [
    "p = 1/6 # zarın 5 gelme olasılığı\n",
    "dagilim = stats.bernoulli(p) # kesikli dağılım\n",
    "p5 = dagilim.pmf(k = 1)\n",
    "pNot5 = dagilim.pmf(k = 0)\n",
    "\n",
    "print('5 gelme olasılığı {} iken 5 gelmeme olasılığı {} dir'.format(p5,pNot5))"
   ]
  },
  {
   "cell_type": "code",
   "execution_count": 8,
   "id": "1d8c8f2f",
   "metadata": {},
   "outputs": [
    {
     "data": {
      "text/plain": [
       "0.16666666666666669"
      ]
     },
     "execution_count": 8,
     "metadata": {},
     "output_type": "execute_result"
    }
   ],
   "source": [
    "dagilim.expect()"
   ]
  },
  {
   "cell_type": "code",
   "execution_count": 9,
   "id": "b10845c9",
   "metadata": {},
   "outputs": [
    {
     "data": {
      "text/plain": [
       "0.1388888888888889"
      ]
     },
     "execution_count": 9,
     "metadata": {},
     "output_type": "execute_result"
    }
   ],
   "source": [
    "dagilim.var()"
   ]
  },
  {
   "cell_type": "code",
   "execution_count": 10,
   "id": "7b07b032",
   "metadata": {},
   "outputs": [
    {
     "name": "stdout",
     "output_type": "stream",
     "text": [
      "Papaz gelme olasılığı 0.07692307692307693 iken Papaz gelmeme olasılığı 0.9230769230769231 dir\n"
     ]
    }
   ],
   "source": [
    "p = 4/52 # 52 kartlık bir desteden papaz çekme olasılığı\n",
    "dist = stats.bernoulli(p)\n",
    "pR = dist.pmf(k = 1)\n",
    "pNotR = dist.pmf(k = 0)\n",
    "\n",
    "print('Papaz gelme olasılığı {} iken Papaz gelmeme olasılığı {} dir'.format(pR,pNotR))"
   ]
  },
  {
   "cell_type": "code",
   "execution_count": 11,
   "id": "e956a14b",
   "metadata": {},
   "outputs": [
    {
     "name": "stdout",
     "output_type": "stream",
     "text": [
      "0.07692307692307693\n",
      "0.07100591715976332\n"
     ]
    }
   ],
   "source": [
    "print(dist.expect())\n",
    "print(dist.var())"
   ]
  },
  {
   "cell_type": "markdown",
   "id": "60117219",
   "metadata": {},
   "source": [
    "## Büyük Sayılar Yasası\n",
    "\n",
    "Bir rassal değişkenin uzun vadeli kararlılığını tanımlayan olasılık teoremidir."
   ]
  },
  {
   "cell_type": "code",
   "execution_count": 12,
   "id": "7d593f07",
   "metadata": {
    "scrolled": true
   },
   "outputs": [
    {
     "name": "stdout",
     "output_type": "stream",
     "text": [
      "Atış Sayısı: 2 --- Yazı Olasılığı: 50.00\n",
      "Atış Sayısı: 4 --- Yazı Olasılığı: 0.00\n",
      "Atış Sayısı: 8 --- Yazı Olasılığı: 62.50\n",
      "Atış Sayısı: 16 --- Yazı Olasılığı: 43.75\n",
      "Atış Sayısı: 32 --- Yazı Olasılığı: 46.88\n",
      "Atış Sayısı: 64 --- Yazı Olasılığı: 56.25\n",
      "Atış Sayısı: 128 --- Yazı Olasılığı: 50.78\n",
      "Atış Sayısı: 256 --- Yazı Olasılığı: 52.73\n",
      "Atış Sayısı: 512 --- Yazı Olasılığı: 52.93\n",
      "Atış Sayısı: 1024 --- Yazı Olasılığı: 50.20\n",
      "Atış Sayısı: 2048 --- Yazı Olasılığı: 48.58\n",
      "Atış Sayısı: 4096 --- Yazı Olasılığı: 49.49\n",
      "Atış Sayısı: 8192 --- Yazı Olasılığı: 49.58\n",
      "Atış Sayısı: 16384 --- Yazı Olasılığı: 49.96\n",
      "Atış Sayısı: 32768 --- Yazı Olasılığı: 50.00\n",
      "Atış Sayısı: 65536 --- Yazı Olasılığı: 49.68\n",
      "Atış Sayısı: 131072 --- Yazı Olasılığı: 49.97\n",
      "Atış Sayısı: 262144 --- Yazı Olasılığı: 50.13\n",
      "Atış Sayısı: 524288 --- Yazı Olasılığı: 50.01\n",
      "Atış Sayısı: 1048576 --- Yazı Olasılığı: 50.09\n"
     ]
    }
   ],
   "source": [
    "rng = np.random.RandomState(123)\n",
    "for i in np.arange(1,21):\n",
    "    deney_sayisi = 2**i\n",
    "    yazi_turalar = rng.randint(0,2,size=deney_sayisi)\n",
    "    yazi_olasiliklari = np.mean(yazi_turalar)\n",
    "    print('Atış Sayısı:',deney_sayisi,\"---\",'Yazı Olasılığı: %.2f' % (yazi_olasiliklari*100))"
   ]
  },
  {
   "cell_type": "markdown",
   "id": "1b143c04",
   "metadata": {},
   "source": [
    "4 kez atıldığında hiç yazı gelmemiş hani %50 olasılık vardı yazı gelinmesi için, ama sona gidildikçe %50 değerlerinin yakalandığı görülüyor."
   ]
  },
  {
   "cell_type": "markdown",
   "id": "00da57c1",
   "metadata": {},
   "source": [
    "## Binom(binomial) Distribution"
   ]
  },
  {
   "cell_type": "markdown",
   "id": "d02a4558",
   "metadata": {},
   "source": [
    "**`Bernoulli deneyinin n kez tekrarlanan bir olayın k kez gerçekleşme olasılığının dağılımıdır.` Kesikli(discrite) bir dağılımdır. Deneleyler bağımsız olmalı ve aynı koşullar altında gerçekleştirilmiş olası gerekir** Discrite ve continous dağılımlar arasındaki en önemli farklardan birisi discrite tek bir sayı ifade eder mesela 1 hasta, 1 ürün, 1 gol gibi yani 1.5 hasta ya da 1.5 gol yoktur. Sürekli ise bir alanın olasılığını ifade eder. Mesela; 22-23 yaş arasında sonsuz sayı vardır. "
   ]
  },
  {
   "cell_type": "code",
   "execution_count": 13,
   "id": "195c64d2",
   "metadata": {},
   "outputs": [
    {
     "name": "stdout",
     "output_type": "stream",
     "text": [
      "7 kez atılan bir paranın 3 kez yazı gelme olasılığı 0.27343750000000017 dir\n"
     ]
    }
   ],
   "source": [
    "p = 0.5 # yazı gelmesini istiyorum\n",
    "n = 7 # n kez atıyorum\n",
    "k = 3 # k kez gerçekleşmesi olasılığını arıyorum\n",
    "\n",
    "dist = stats.binom(n,p)\n",
    "pY = dist.pmf(k)\n",
    "print(f'{n} kez atılan bir paranın {k} kez yazı gelme olasılığı {pY} dir')"
   ]
  },
  {
   "cell_type": "code",
   "execution_count": 14,
   "id": "f7553522",
   "metadata": {},
   "outputs": [
    {
     "name": "stdout",
     "output_type": "stream",
     "text": [
      "5 kez atılan bir penaltının 3 kez gol olma olasılığı 0.20479999999999993 dir. Yani %20.479999999999993 dür\n"
     ]
    }
   ],
   "source": [
    "# Penaltıyı gole çevirme olasılığı %80 olan bir takımın 5 penaltıdan 3 ünü gol atma olasılığı ve yüzdesi?\n",
    "\n",
    "p = 0.8\n",
    "n = 5\n",
    "k = 3\n",
    "\n",
    "dist = stats.binom(n,p)\n",
    "pGoal = dist.pmf(k)\n",
    "print(f'{n} kez atılan bir penaltının {k} kez gol olma olasılığı {pGoal} dir. Yani %{pGoal * 100} dür')"
   ]
  },
  {
   "cell_type": "code",
   "execution_count": 15,
   "id": "b515bd43",
   "metadata": {},
   "outputs": [
    {
     "name": "stdout",
     "output_type": "stream",
     "text": [
      "10 adet satılan üründen kusursuz olma olasılığı 0.9043820750088045 dir. Yani %90.43820750088045 dir\n",
      "0.9998861508820944\n",
      "En fazla 2 tanesinin kusurlu olma olasılığı 0.9998861508820942. Yüzdesi %99.98861508820941\n"
     ]
    }
   ],
   "source": [
    "# Bir fabrikada üretilen her 100 üründen 1 tanesinin kusurlu olarak üretildiği tespit edilmiştir. \n",
    "# Müşteriye satılan 10 tane ürünün tamamının kusursuz olması olasılığı?\n",
    "\n",
    "p = 0.01\n",
    "n = 10\n",
    "k = 0\n",
    "\n",
    "dist = stats.binom(n,p)\n",
    "pKusursuz = dist.pmf(k)\n",
    "pKusursuz\n",
    "\n",
    "print(f'{n} adet satılan üründen kusursuz olma olasılığı {pKusursuz} dir. Yani %{pKusursuz * 100} dir')\n",
    "\n",
    "# veya en fazla 2 tanesinin kusurlu olma olasılığı? P(X<2) = P(X=0) + P(X=1) + P(X=2) ANLAMINA GELİR.\n",
    "product0 = dist.pmf(k = 0)\n",
    "product1 = dist.pmf(k = 1)\n",
    "product2 = dist.pmf(k = 2)\n",
    "print(product0 + product1 + product2)\n",
    "\n",
    "total = dist.cdf(x=2) # cdf = cumulative distribution function \n",
    "print(f'En fazla 2 tanesinin kusurlu olma olasılığı {total}. Yüzdesi %{total *100}')"
   ]
  },
  {
   "cell_type": "code",
   "execution_count": 16,
   "id": "47aaf603",
   "metadata": {},
   "outputs": [
    {
     "name": "stdout",
     "output_type": "stream",
     "text": [
      "Haftada 50 satıştan 5 iade olma olasılığı 0.18492460089520932, 15 den az iade gelme olasılığı 0.9999825030783145,10 defadan daha fazla iade gelme olasılığı 0.009354601587329037\n"
     ]
    }
   ],
   "source": [
    "'''Bir tane satış mağazasında haftalık olarak ürün iadesi konusunda bir olasılık modellemesi yapılmak isteniyor. \n",
    "Haftalık ortalama olarak satılan her 100 ürünün 10 tanesi geri iade edilmektedir. Haftada 50 adet satış yapılmaktadır. \n",
    "5 defa iade gelme olasılığı nedir?\n",
    "15 defadan daha az gelme olasılığı nedir? P(X < 15)\n",
    "En az 10 defa gelme olasılığı? P(X>10)''' \n",
    "\n",
    "p = 0.1\n",
    "n = 50\n",
    "\n",
    "dist = stats.binom(n,p)\n",
    "pIade5 = dist.pmf(k = 5)\n",
    "pIade15 = dist.cdf(x = 15)\n",
    "pIade10 = 1 - dist.cdf(x = 10) # \n",
    "print(f'Haftada 50 satıştan 5 iade olma olasılığı {pIade5}, 15 den az iade gelme olasılığı {pIade15},' + \n",
    "      f'10 defadan daha fazla iade gelme olasılığı {pIade10}')"
   ]
  },
  {
   "cell_type": "markdown",
   "id": "33cae7ea",
   "metadata": {},
   "source": [
    "#### İş Uygulaması: Reklam Harcaması Optimizasyonu\n",
    "\n",
    "Çeşitli mecralara reklamlar veriliyor. Reklamların tıklanma ve geri dönüş oranları optimize edilmeye çalışılıyor. Buna yönelik olarak belirli bir mecrada çeşitli senaryolara göre reklama tıklanma olasılıkları hesaplanmak isteniyor.\n",
    "\n",
    "`Detaylar`\n",
    "   - Bir mecrada reklam verilecek\n",
    "   - Dağılım ve reklama tıklanma olasılığı biliniyor(0.01)\n",
    "    \n",
    "`Soru:` Reklamı 100 kişi gördüğünde 1,5,10 tıklanması olasılığı nedir?"
   ]
  },
  {
   "cell_type": "code",
   "execution_count": 17,
   "id": "e55772a1",
   "metadata": {},
   "outputs": [
    {
     "name": "stdout",
     "output_type": "stream",
     "text": [
      "Reklamı 100 kişi gördüğünde 1 kişinin tıklama olasılığı %.2f 36.972963764971986, 5 kişinin tıklama olasılığı %0.28977871237616115,10 kişinin tıklama olasılığı %7.006035693977161e-06\n"
     ]
    }
   ],
   "source": [
    "n = 100\n",
    "p = 0.01\n",
    "dist1 = stats.binom(n,p).pmf(k=1)\n",
    "dist3 = stats.binom(n,p).pmf(k=5)\n",
    "dist5 = stats.binom(n,p).pmf(k=10)\n",
    "print(f'Reklamı 100 kişi gördüğünde 1 kişinin tıklama olasılığı %.2f {dist1*100}, 5 kişinin tıklama olasılığı %{dist3*100},' +  \n",
    "f'10 kişinin tıklama olasılığı %{dist5*100}')"
   ]
  },
  {
   "cell_type": "markdown",
   "id": "ff7244e1",
   "metadata": {},
   "source": [
    "## Poisson Distribution"
   ]
  },
  {
   "cell_type": "markdown",
   "id": "ef557e95",
   "metadata": {},
   "source": [
    "Belirli bir zaman aralığında belirli bir alanda nadiren rastlanan olayların olasılıklarını hesaplamak için kullanılır.\n",
    "\n",
    "## **n > 50 ve n.p < 5 olmalıdır. Bu durum sağlanırsa buna nadir olay denir. p = olasılık ,lambda = n.p **"
   ]
  },
  {
   "cell_type": "code",
   "execution_count": 18,
   "id": "0204a839",
   "metadata": {
    "scrolled": true
   },
   "outputs": [
    {
     "name": "stdout",
     "output_type": "stream",
     "text": [
      "Bu televizyondan bir günde 9 adet satılma olasılığı 0.036265577415643714. Yani %3.6265577415643713\n"
     ]
    }
   ],
   "source": [
    "'''Elektronik ürün satılan bir mağazada bir ürün üzerinden olasılık modelleme yapılmak isteniyor. \n",
    "X markanın Y serisi ile ilgili bir televizyon var. Bu televizyonla ilgili olasılık modellenmek isteniyor. \n",
    "Geçmiş veriler incelendiğinde 1 yılda 1825 tane satılmış. Bugün bu televizyondan 9 adet satma olasılığı nedir?'''\n",
    "\n",
    "mean = 1825 / 365 # gün bazlı olduğu için 365 e böldük. Haftalık olsaydı 52 ye bölerdik. # λ = mean\n",
    "# P(x=9)\n",
    "\n",
    "dist = stats.poisson(mean)\n",
    "p9 = dist.pmf(k = 9)\n",
    "print(f'Bu televizyondan bir günde 9 adet satılma olasılığı {p9}. Yani %{p9*100}')"
   ]
  },
  {
   "cell_type": "code",
   "execution_count": 19,
   "id": "a2876bdb",
   "metadata": {},
   "outputs": [
    {
     "name": "stdout",
     "output_type": "stream",
     "text": [
      "1 yılda 1 fırtına olma olasılığı %27.06705664732254, 3 fırtına olma olasılığı 18.044704431548357, 5 fırtına olma olasılığı 3.6089408863096724\n"
     ]
    }
   ],
   "source": [
    "'''Mesela X ülkesine çatı malzemesi satılmak isteniyor ve o bölgenin hava koşullarına göre bir garanti \n",
    "süresi belirleme yapılacaktır. 1  yılda 2 tane fırtına olduğu belirleniyor. 1 yılda 1-3-5 kez fırtına olma olasılığını \n",
    "ve yüzdesini hesaplayınız'''\n",
    "\n",
    "mean = 2\n",
    "\n",
    "dist = stats.poisson(mean)\n",
    "p1 = dist.pmf(k = 1)\n",
    "p3 = dist.pmf(k = 3)\n",
    "p5 = dist.pmf(k = 5)\n",
    "print(f'1 yılda 1 fırtına olma olasılığı %{p1*100}, 3 fırtına olma olasılığı {p3*100}, 5 fırtına olma olasılığı {p5*100}')"
   ]
  },
  {
   "cell_type": "code",
   "execution_count": 20,
   "id": "d13acad5",
   "metadata": {},
   "outputs": [
    {
     "name": "stdout",
     "output_type": "stream",
     "text": [
      "1 yılda en az 3 deprem olma olasılığı %84.87961172233521, en fazla 3 deprem olma olasılığı %15.120388277664784\n"
     ]
    }
   ],
   "source": [
    "'''Bir bölgede yılda 6 kez deprem oluyor. Bu bölgede 1 yılda en az 3 ve en çok 3 deprem olma olasılığı nedir?'''\n",
    "\n",
    "mean = 6\n",
    "\n",
    "dist = stats.poisson(mean)\n",
    "p_under_3 = dist.cdf(x = 3)\n",
    "p_over_3 = 1 - p_under_3\n",
    "print(f'1 yılda en az 3 deprem olma olasılığı %{p_over_3 * 100}, en fazla 3 deprem olma olasılığı %{p_under_3 * 100}')"
   ]
  },
  {
   "cell_type": "markdown",
   "id": "2e29f2c5",
   "metadata": {},
   "source": [
    "#### İş Uygulaması: İlan Girişi Hata Olasılıklarının Hesaplanması\n",
    "\n",
    "\n",
    "`Problem:` Hatalı ilan girişi olasılıkları hesaplanmak isteniyor.\n",
    "\n",
    "`Detaylar:`\n",
    "   - Bir yıl süresince ölçümler yapılıyor\n",
    "   - Dağılım biliniyor(Poisson) ve Lambda 0.1 (ortalama hata sayısı)\n",
    "   - Hiç hata olmaması, 3 hata olması ve 5 hata olması olasılıkları nedir?"
   ]
  },
  {
   "cell_type": "code",
   "execution_count": 21,
   "id": "cb92afc9",
   "metadata": {},
   "outputs": [
    {
     "name": "stdout",
     "output_type": "stream",
     "text": [
      "0 hatalı ilan giriş olasılığı %90.48374180359595, 3 hatalı ilan giriş olasılığı %0.015080623633932677,5 hatalı ilan giriş olasılığı %7.540311816966339e-06\n"
     ]
    }
   ],
   "source": [
    "Lambda = 0.1\n",
    "dist0 = stats.poisson(0.1).pmf(k=0)\n",
    "dist3 = stats.poisson(0.1).pmf(k=3)\n",
    "dist5 = stats.poisson(0.1).pmf(k=5)\n",
    "\n",
    "print(f'0 hatalı ilan giriş olasılığı %{dist0*100}, 3 hatalı ilan giriş olasılığı %{dist3*100},' +  \n",
    "f'5 hatalı ilan giriş olasılığı %{dist5*100}')"
   ]
  },
  {
   "cell_type": "markdown",
   "id": "20de29af",
   "metadata": {},
   "source": [
    "## Discrite Uniform Distribution"
   ]
  },
  {
   "cell_type": "code",
   "execution_count": 22,
   "id": "087e2fa6",
   "metadata": {},
   "outputs": [
    {
     "name": "stdout",
     "output_type": "stream",
     "text": [
      "6 kenarlı bir zarın 5 gelme olasılığı 0.16666666666666666, ortalaması 3.5, varyansı 2.9166666666666665\n",
      "Sayının 3 ve daha az gelme olasılığı 0.5\n"
     ]
    }
   ],
   "source": [
    "# 6 köşeli 1 zar atılıyor. 5 gelme olasılığı nedir?\n",
    "\n",
    "n = 6\n",
    "\n",
    "dist = stats.randint(1,n+1) # kesikli uniform da randint kullanırız ve n i değerinden bir az aldığı için 1 ekleriz\n",
    "p5 = dist.pmf(k = 5)\n",
    "Ex = dist.expect()\n",
    "var = dist.var()\n",
    "print(f'6 kenarlı bir zarın 5 gelme olasılığı {p5}, ortalaması {Ex}, varyansı {var}')\n",
    "\n",
    "# n <= 3\n",
    "p_under_3 = dist.cdf(x = 3)\n",
    "print(f'Sayının 3 ve daha az gelme olasılığı {p_under_3}')"
   ]
  },
  {
   "cell_type": "markdown",
   "id": "f32cce48",
   "metadata": {},
   "source": [
    "## Continuous Uniform Distribution"
   ]
  },
  {
   "cell_type": "markdown",
   "id": "0ac92191",
   "metadata": {},
   "source": [
    "Belli bir nokta yerine bir aralık üzerinden devam edilir ve bu aralığın altında kalan olasılık alanı hesaplanır. Discrite da y ekseni olasılık iken devamlıda fonksiyona işarettir."
   ]
  },
  {
   "cell_type": "code",
   "execution_count": 23,
   "id": "0ea68812",
   "metadata": {},
   "outputs": [
    {
     "name": "stdout",
     "output_type": "stream",
     "text": [
      "7.5\n"
     ]
    }
   ],
   "source": [
    "a = 0\n",
    "b = 15\n",
    "\n",
    "dist = stats.uniform(a,b) # sürekliyse uniform kesikse randint çağırılır\n",
    "Expected = dist.expect()\n",
    "print(Expected)"
   ]
  },
  {
   "cell_type": "code",
   "execution_count": 24,
   "id": "cc8b1542",
   "metadata": {},
   "outputs": [
    {
     "name": "stdout",
     "output_type": "stream",
     "text": [
      "0.8333333333333334\n"
     ]
    }
   ],
   "source": [
    "# Bir otobüs durağında otobüsü 12.5 dakikadan daha az bekleme olasılığı nedir?\n",
    "a = 0\n",
    "b = 15\n",
    "\n",
    "dist = stats.uniform(a,b)\n",
    "p = dist.cdf(x=12.5)\n",
    "print(p)"
   ]
  },
  {
   "cell_type": "code",
   "execution_count": 25,
   "id": "ee118316",
   "metadata": {},
   "outputs": [
    {
     "name": "stdout",
     "output_type": "stream",
     "text": [
      "0.875\n"
     ]
    }
   ],
   "source": [
    "'''Bir ürünün tamir süresinin 1,5 ve 4 saat arasında değişmekte olduğu bilinmektedir. Rastgele seçilen arızalı bir ürünün \n",
    "tamir süresinin 2 saatten fazla olma olasılığı nedir? '''\n",
    "\n",
    "a = 1.5\n",
    "b= 4\n",
    "\n",
    "dist = stats.uniform(a,b)\n",
    "p = dist.cdf(x=2)\n",
    "print(1-p)"
   ]
  },
  {
   "cell_type": "markdown",
   "id": "6aa806ae",
   "metadata": {},
   "source": [
    "## Gaussian(Normal) Distribution"
   ]
  },
  {
   "cell_type": "markdown",
   "id": "ce9b5bd3",
   "metadata": {},
   "source": [
    "Continuous Probability Distributions \"Probability Density Functions(PDF)\" olarak da adlandırılır. Gaussian ayrıca Bell Shaped olarak da adlandırılır."
   ]
  },
  {
   "cell_type": "code",
   "execution_count": 26,
   "id": "e208959e",
   "metadata": {},
   "outputs": [
    {
     "name": "stdout",
     "output_type": "stream",
     "text": [
      "%96.40696808870743\n"
     ]
    }
   ],
   "source": [
    "'''Bir ürünün ortalaması 500 gramdır ve 100 gram varyansı vardır. Rastgele seçilen bir ürünün kütlesinin 518 gramdan \n",
    "az olma olasılığı nedir?'''\n",
    "\n",
    "mean = 500\n",
    "variance = 100\n",
    "\n",
    "dist = stats.norm(mean,np.sqrt(variance))\n",
    "p = dist.cdf(x=518)\n",
    "print(f'%{p*100}')"
   ]
  },
  {
   "cell_type": "markdown",
   "id": "bd843ef0",
   "metadata": {},
   "source": [
    "#### İş Uygulaması: Satış Olasılıklarının Hesaplanması\n",
    "\n",
    "`Problem: ` Bir yatırım/toplantı öncesinde gelecek ay ile ilgili satışların belirli değerlerde gerçekleşmesi olasılıkları belirlenmek isteniyor.\n",
    "\n",
    "`Detaylar: `\n",
    "   - Dağılımın normal olduğu biliniyor. (**Not:** Grafiklerle ve hipotez testleriyle nasıl bir dağılım olduğu belirlenir)\n",
    "   - Aylık ortalama satış sayısı 80K, standart sapması 5K\n",
    "   - 90K,70K, dan fazla satış yapma olasılığı nedir?\n",
    "   - 73'den az olması olasılığı nedir?\n",
    "   - 85 ile 90 arasında olması olasılığı nedir?"
   ]
  },
  {
   "cell_type": "code",
   "execution_count": 27,
   "id": "34cbdb08",
   "metadata": {},
   "outputs": [
    {
     "data": {
      "text/plain": [
       "0.02275013194817921"
      ]
     },
     "execution_count": 27,
     "metadata": {},
     "output_type": "execute_result"
    }
   ],
   "source": [
    "# 90' dan fazla olması olasılığı\n",
    "1 - stats.norm.cdf(90,80,5)"
   ]
  },
  {
   "cell_type": "code",
   "execution_count": 28,
   "id": "c7924782",
   "metadata": {},
   "outputs": [
    {
     "data": {
      "text/plain": [
       "0.9772498680518208"
      ]
     },
     "execution_count": 28,
     "metadata": {},
     "output_type": "execute_result"
    }
   ],
   "source": [
    "# 70K dan fazla\n",
    "1 - stats.norm.cdf(70,80,5)"
   ]
  },
  {
   "cell_type": "code",
   "execution_count": 29,
   "id": "2cbde671",
   "metadata": {},
   "outputs": [
    {
     "data": {
      "text/plain": [
       "0.08075665923377107"
      ]
     },
     "execution_count": 29,
     "metadata": {},
     "output_type": "execute_result"
    }
   ],
   "source": [
    "# 73K dan az\n",
    "stats.norm.cdf(73,80,5)"
   ]
  },
  {
   "cell_type": "code",
   "execution_count": 30,
   "id": "9461bae8",
   "metadata": {},
   "outputs": [
    {
     "data": {
      "text/plain": [
       "0.13590512198327787"
      ]
     },
     "execution_count": 30,
     "metadata": {},
     "output_type": "execute_result"
    }
   ],
   "source": [
    "# 85 ile 90 arasında olması \n",
    "(1 - stats.norm.cdf(85,80,5)) - (1 - stats.norm.cdf(90,80,5)) # YA DA stats.norm.cdf(90,80,5) - stats.norm.cdf(85,80,5)"
   ]
  },
  {
   "cell_type": "markdown",
   "id": "30126c46",
   "metadata": {},
   "source": [
    "# VERİ BİLİMCİSİNİN AMACI\n",
    "- 1- Belirsizlik altında karar vermeye çalışıyoruz. Modellemeye veriye dökmeye çalışıyoruz. Bu konuda bize yardım eden araçlardan birisi olasılık dağılımlarıdır. Bize çeşitli konularda olasılık dağılımları veriyor.\n",
    "- 2- Odaklanmış olduğumuz bu olasılık dağılımları kafamızda bir fonksiyon var, bu fonksiyona çeşitli değerleri yazıp bazı olasılık değerleri hesaplıyoruz şeklinde kaydolmalıdır. Yani Uygun olasılık fonksiyonları ile olasılık hesapları yapıyoruz. \n",
    "\n",
    "# NE ÖĞRENDİK\n",
    "- Biraz daha ileri seviyede dağılımların tipini bilip inceledikten sonra karar verdiğimizde bu dağılımları kullanarak bu şekilde artık olasılık hesabı yapabileceğimizi biliyoruz. BU OLASILIK HESAPLARIYLA EĞER BİR İŞ YERİ PROBLEMİNE ENTEGRE ETME İŞLEMİ GERÇEKLEŞTİYSE ÇOK DEĞERLİ KARAR DESTEK NOKTALARI OLUŞTURABİLİYORUZ."
   ]
  },
  {
   "cell_type": "markdown",
   "id": "f61ef0d0",
   "metadata": {},
   "source": [
    "## HİPOTEZ TESTİ"
   ]
  },
  {
   "cell_type": "markdown",
   "id": "44bb726e",
   "metadata": {},
   "source": [
    "### Tek Örneklem T Testi"
   ]
  },
  {
   "cell_type": "markdown",
   "id": "e52f0fd1",
   "metadata": {},
   "source": [
    "Elimizde tek bir sample in ortalamasına ilişkin test yapma ihtiyacı olduğunda kullanılan testtir. Örneğin bir ilçenin yaş ortalamasıyla ilgili hipotez testi kurmak istediğimizde bunu kullanırız. Örneğin web sitemizde insanların geçirdiği süreye ilişkin bir hipotez testi kurmak istediğimizde 180 sn dir ya da deildir 180 sn den fazladır ya da azdır dediğimizde görüldüğü gibi elimizde tek örneklem var bu yüzden t testi kullanılır"
   ]
  },
  {
   "cell_type": "markdown",
   "id": "738becf7",
   "metadata": {},
   "source": [
    "**Bir ürünün ortalamasını biliyoruz diyelim ama yine de bu ortalama doğrumu onu test ediyoruz. bunu da hipotez testiyle yaparız. Bu sonuç şansa bağlı mı gerçekleşti yoksa gerçekten donuç doğru mu?**"
   ]
  },
  {
   "cell_type": "markdown",
   "id": "dc869fbd",
   "metadata": {},
   "source": [
    "**H0 gerçekte doğru iken H0 doğru olduğu halde onu reddettiğimde yapacağım hatayı biliyorken, H0'ı kabul ettiğimde yapacak olduğum hatayı bilmiyorum. Bu yüzden hipotez testlerinin sonuçları yorumlanırken H0 reddedilir ya da reddedilemez diye yorumlanır. Reddederek yapacağımız hatayı biliyoruz bu hata alfa hatasıdır.**"
   ]
  },
  {
   "cell_type": "markdown",
   "id": "823eaf47",
   "metadata": {},
   "source": [
    "**Dağılıma uygunluk testleri dediğimiz testleri yaptığımızda H0 hipotezini reddetmek istemeyiz. Çünkü burada H0 hipotezi örnek dağılım ile teorik dağılım arasında bir fark yoktur der. ve biz burada h0 reddetmek istemeyiz. Bu sebeple p değerinin 0.05 değerinden düşük olduğuna sevinemeyiz. p value değerini gördüğümüzde genelde sevinmiş olacağız ve h0 reddedeceğiz ve reddettiğimize sevinmiş olacağız. Ama dağılıma uygunluk testinde iş değişir. Yani elimizdeki örnek dağılımın dağılımıyla teorik dağılımın dağılımı birbirine eşittir şeklinde kurulan hipotezlerde hipotezi reddetmek istemeyiz. Normallik varsayımlasrı gibi testleri farklı olarak test ederiz. Eğer varsayım sağlanıyorsa ilgili hipotez testini kullanacağız eğer varsayımlar sağlanmadığında bunları kullanamıyoruz nanparametrik testleri kullanırız**"
   ]
  },
  {
   "cell_type": "markdown",
   "id": "a1aedf1e",
   "metadata": {},
   "source": [
    "### İş Uygulaması: Ürün Satın Alma Adım Optimizasyonu\n",
    "\n",
    "Bir e ticaret şirketinde bazı ürünler satılıyor. Bu ürünleri müşteri alırken 5 adım var. Sepete ürün eklenmesi,kart bilgilerinin girilmesi vs. Bu adımları kullanıcı deneyimi açısından optimize edilmesi iyileştirilmesi gibi çabalar var. Bunlar ana hedefler. Deneyimi basit ve hızlı bir şekilde gerçekleştirip ortaya çıkan problemleri halletmek.\n",
    "\n",
    "**`Problem: `**Sepete ürün eklemesi işlemi sonrasında ödeme ekranında 5 adım vardır ve bu adımların birisi sorgulanmaktadır.\n",
    "\n",
    "**`Detaylar: `**\n",
    "- Her adımın 20'şer sn. olması hedefi var. 4. adım sorgulanıyor.\n",
    "- Bu durumu test etmek için 100 örnek alınıyor.\n",
    "- Örnek standart sapması 5 saniyedir. Örnek ortalaması ise 19 saniyedir.\n",
    "\n",
    "**`Önemli Not: ` 100 örnek çektik örnek ortalaması zaten 19 neyin testini yapıyoruz? Bu anlaşıldığında hipotez testlerinin mantığı anlaşılır. Biz şu yüzden test yapıyoruz: Ortaya çıkan bir etkinin şans eseri olup olmadığını istatistiki olarak şansa yer bırakmayacak şekilde ispat etmeye çalışıyoruz. Bunun standart sapmasınıda hesaba katarak istatistiki olarak anlamlı olup olmadığını değerlendirmiş olacağız.**\n",
    "\n",
    "\n",
    "**ADIM 1:** \n",
    "- H0: M = 20\n",
    "- H1: M != 20\n",
    "\n",
    "**ADIM 2:**\n",
    "- alfa = significance level = 0.05 ----- alfa/2 = 0.025\n",
    "- Ztablo = Tablo olasılık değeri = 0.5 - 0.025 = 0.475\n",
    "- Ztablo kritik değer = -/+ 1.96\n",
    "\n",
    "**ADIM 3:**\n",
    "- ztest ya da zhesap = (xbar - M) / (s/n**1/2) = -2.00\n",
    "\n",
    "**ADIM 4:**\n",
    "- Ztablo ve Ztest karşılaştırılır.\n",
    "- Ztest = -2.00 < Ztablo = -1.96 olduğu için H0 reddedilir.\n",
    "\n",
    "**ADIM 5: Yorum**\n",
    "- 4. adımda geçirilen sürenin 20 sn olduğunu iddia eden H0 hipotezi reddedilmiştir. Buna göre kullanıcılar istatiksel olarak yüzde 95 güvenilirlik ile 4. adımda 20 saniyeden farklı zaman geçirmektedir. \n",
    "\n",
    "**Demekki anakitle(populasyon) dediğimiz bütün insanlar bizim websitemizin 4. adımında 20 sn zaman geçirmiyor. Bunun üzerine gerekli kararları artık alabiliriz. H0 ı eğer reddedemeseydik 4. adımda kullanıcılarımızın 20 sn geçirdiğini kabul etmiş olacaktık ve buna göre karar alacaktık.**\n",
    "\n",
    "Bizim değerlendirme konusunda oluşturulabilecek yanlılıklar böylece ortadan kaldırılmış bulunuyor. \n",
    "Burada normallik varsayımını incelemedik. Hipotez testinin sonuçlarına gelmeden önce elimizdeki tek örneğin normallik varsayımı sağlayıp sağlamadığı test edilmelidir. **Eğer normallik varsayımı sağlanmıyorsa nonparametrik T testi yapılmalıdır.**"
   ]
  },
  {
   "cell_type": "markdown",
   "id": "50bced0b",
   "metadata": {},
   "source": [
    "### İş Uygulaması: Web Sitesinde Geçirilen Sürenin Testi\n",
    "\n",
    "**`Problem: `** Web sitemizde geçirilen ortalama süre gerçekten 170 saniye mi?\n",
    "\n",
    "**`Detaylar: `**\n",
    "- Yazılımlardan elde edilen web sitesinde geçirilen ort. süreler var.\n",
    "- Bu veriler incelendiğinde bir yönetici ya da çalışanımız bu değerlerin böyle olmadığına yönelik düşünceler taşıyor ve bu durumu test etmek istiyorlar."
   ]
  },
  {
   "cell_type": "code",
   "execution_count": 31,
   "id": "d2628517",
   "metadata": {},
   "outputs": [],
   "source": [
    "# H0: M = 170\n",
    "# H1: M != 170\n",
    "\n",
    "olcumler = np.array([17,160,234,149,145,107,197,75,201,225,211,119,157,145,127,244,163,114,145,65,112,185,202,146,\n",
    "                     203,224,203,114,188,156,187,154,177,\n",
    "                     95,165,50,110,216,138,151,166,135,155,84,251,173,131,207,121,120])"
   ]
  },
  {
   "cell_type": "code",
   "execution_count": 32,
   "id": "bb56f4f8",
   "metadata": {},
   "outputs": [
    {
     "data": {
      "text/plain": [
       "DescribeResult(nobs=50, minmax=(17, 251), mean=154.38, variance=2578.0363265306123, skewness=-0.32398897278694483, kurtosis=-0.05849823498415985)"
      ]
     },
     "execution_count": 32,
     "metadata": {},
     "output_type": "execute_result"
    }
   ],
   "source": [
    "stats.describe(olcumler)"
   ]
  },
  {
   "cell_type": "markdown",
   "id": "02b6e739",
   "metadata": {},
   "source": [
    "# Ölçümlerin ortalaması 154 yani sample dan elde ettiğimiz ortalama 154. Bize sunulan araştırma değeri ise 170. Zaten 154 170 den küçük test yapmaya ne gerek var diye düşünebiliriz. Bu nokta kavrandığı takdirde hipotez testleri mantığı kavranacaktır. Bu sample ortalaması 154, şansa bağlı oluşmuş olamazz mı? Mesela ben başka sample alsam yani başka 50 değer alsam başka değer alsam bu 154 ddeğeri değişmeyecek midir? Değişecektir değil mi? Öylese bu 154 değeri şansa bağlı olarak oluşmuş olabilir. İşte bu şansa bağlı olarak oluşmuş olma ihtimalini bir hipotez kurarak test ettiğimizde ortadan kaldırmış oalcağız."
   ]
  },
  {
   "cell_type": "code",
   "execution_count": 33,
   "id": "48e706f9",
   "metadata": {},
   "outputs": [
    {
     "data": {
      "image/png": "[encoded data removed]",
      "text/plain": [
       "<Figure size 432x288 with 1 Axes>"
      ]
     },
     "metadata": {
      "needs_background": "light"
     },
     "output_type": "display_data"
    }
   ],
   "source": [
    "# normallik varsayımına bakmalıyız (hipotez testinin sağlığı için)(Elimizdeki samplein normal olup olmadığını test ediyoruz.)\n",
    "# İki yöntemle gerçekleştirilebilir.\n",
    "# 1- grafik yöntemlerle  (hist ve qqplot)\n",
    "# 2- bazı testler ile gerçekleştirilebilir. (shapiro-wilks)\n",
    "\n",
    "#1. yöntem grafikler\n",
    "# hist\n",
    "pd.DataFrame(olcumler).plot.hist();"
   ]
  },
  {
   "cell_type": "markdown",
   "id": "decbc724",
   "metadata": {},
   "source": [
    "Dağılımın normal olduğu izlenimini gözlemliyoruz."
   ]
  },
  {
   "cell_type": "code",
   "execution_count": 34,
   "id": "bc54bcea",
   "metadata": {},
   "outputs": [
    {
     "data": {
      "image/png": "[encoded data removed]",
      "text/plain": [
       "<Figure size 432x288 with 1 Axes>"
      ]
     },
     "metadata": {
      "needs_background": "light"
     },
     "output_type": "display_data"
    }
   ],
   "source": [
    "# qqplot\n",
    "import pylab\n",
    "stats.probplot(olcumler, dist=\"norm\",plot=pylab)\n",
    "pylab.show()"
   ]
  },
  {
   "cell_type": "code",
   "execution_count": 35,
   "id": "0339f271",
   "metadata": {},
   "outputs": [
    {
     "name": "stdout",
     "output_type": "stream",
     "text": [
      "T hesap istatistiği(t testi): 0.9853105545043945\n",
      "Hesaplanan P-value: 0.7848747968673706\n"
     ]
    }
   ],
   "source": [
    "# 2. Shapiro-Wilks Testi (Hipotez testi içinde bir test daha yapıyoruz)\n",
    "# H0: Sample dağılımı ile teorik normal dağılım arasında istatistiksel olarak fark yoktur.\n",
    "# H1: ... fark vardır.\n",
    "\n",
    "stats.shapiro(olcumler)\n",
    "print(\"T hesap istatistiği(t testi): \" + str(stats.shapiro(olcumler)[0]))\n",
    "print(\"Hesaplanan P-value: \" + str(stats.shapiro(olcumler)[1]))"
   ]
  },
  {
   "cell_type": "markdown",
   "id": "542b0376",
   "metadata": {},
   "source": [
    "P value 0.78 çıktığı için hipotezi gerçekleştirebiliriz. Sample dağılımı ile teorik normal dağılım arasında istatistiksel olarak fark yoktur. anlamına gelir."
   ]
  },
  {
   "cell_type": "markdown",
   "id": "23b8ee8f",
   "metadata": {},
   "source": []
  },
  {
   "cell_type": "code",
   "execution_count": 36,
   "id": "601b96f4",
   "metadata": {},
   "outputs": [
    {
     "data": {
      "text/plain": [
       "Ttest_1sampResult(statistic=-2.1753117985877966, pvalue=0.034460415195071446)"
      ]
     },
     "execution_count": 36,
     "metadata": {},
     "output_type": "execute_result"
    }
   ],
   "source": [
    "# Hipotez Testinin Uygulanması\n",
    "\n",
    "stats.ttest_1samp(olcumler, popmean=170)"
   ]
  },
  {
   "cell_type": "markdown",
   "id": "33c37427",
   "metadata": {},
   "source": [
    "## YORUM\n",
    "\n",
    "Test sonuçları incelendiğinde p value değeri çalışmanın başında kabul ettiğimiz significance level 0.05 olasılık değerinden küçük olduğundan dolayı H0 hipotezimiz reddedilir. Web sitemizde geçirilen ortalama süre 170 değildir. Zaten sampledan elde ettiğimiz değerde 155 civarı bir değer olduğundan dolayı web sitemizde geçirilen ort. süre 170 den küçüktür."
   ]
  },
  {
   "cell_type": "markdown",
   "id": "cfa2f5f4",
   "metadata": {},
   "source": [
    "## Nonparametrik Tek Örneklem(Sample) Testi"
   ]
  },
  {
   "cell_type": "code",
   "execution_count": 37,
   "id": "03357759",
   "metadata": {},
   "outputs": [],
   "source": [
    "from statsmodels.stats.descriptivestats import sign_test"
   ]
  },
  {
   "cell_type": "code",
   "execution_count": 38,
   "id": "95cf2b7a",
   "metadata": {},
   "outputs": [
    {
     "data": {
      "text/plain": [
       "(-7.0, 0.06490864707227219)"
      ]
     },
     "execution_count": 38,
     "metadata": {},
     "output_type": "execute_result"
    }
   ],
   "source": [
    "sign_test(olcumler, 170)"
   ]
  },
  {
   "cell_type": "markdown",
   "id": "2887cd25",
   "metadata": {},
   "source": [
    "## Sample dağılımı ile teorik normal dağılım arasında istatistiksel olarak fark olup olmadığına bakarız. (Yukarıdaki grafikler ve stats.shapiro(olcumler) ile) Eğer sample dağılımı ile teorik normal dağılımı arasında ilişki yoksa nonparametrik testi gerçekleştiririz. Varsa ilk başta yukarıdaki yorum geçerlidir. Yani normallik varsayımı testinde H0 reddedildiğinde yani P-value 0.05 in altında çıktığında nonparametrik tek örneklem testini yaparız. Buradaki örnekte zaten yukarıda p değerimiz 0.05 den yüksek çıktığı için h0 reddetmedik ve yukarıdaki yorumu yazdık. Ama 0.05 den az çıktığını varsaysak şimdi yaptığımız şekilde yapacağız. Zaten yukarıda doğru sonuç bulduğumuz için şimdi yaptığımız yanlış çıktı. Yukarıda hipotez testinin p value değeri 0.05 in altında çıktı nonparametikte ise 0.05 in üstünde. Bunu zaten nasıl hesaplanacağını gösterme amaçlı yaptık."
   ]
  },
  {
   "cell_type": "markdown",
   "id": "6313c9ba",
   "metadata": {},
   "source": [
    "# TEK ÖRNEKLEM ORAN TESTİ\n",
    "\n",
    "Oransal bir ifade test edilmek istenildiğinde kullanılır."
   ]
  },
  {
   "cell_type": "markdown",
   "id": "692249d7",
   "metadata": {},
   "source": [
    "**Not:** Dönüşüm oranı(Click true ret gibi adlandırılır) pazarlama dünyasında çok önemli bir yere sahip olan bir kavramdır. Örneğin web sitesinde bir ürün satıyoruz. Bu ürünü 100 kişi gördü 1 kişi aldı. Dönüşüm oranı 1/100 dür yani 0.01 dir. İlgilenilen olay / o olayı görçekleştirmek üzere o olaya maruz kalan kişi sayısı. Ya da ürünü şu kadar kişi ssepete koydu, şu kadar kişi satın aldı."
   ]
  },
  {
   "cell_type": "markdown",
   "id": "991ec18f",
   "metadata": {},
   "source": [
    "### İş Uygulaması: Dönüşüm Oranı Testi\n",
    "\n",
    "**`Problem: `**\n",
    "\n",
    "Bir yazılım ile bir mecrada reklam verilmiş ve bu reklama ilişkin yazılım tarafından 0.125 dönüşüm oranı elde edildiği ifade edilmiş. Fakat bu durum kontrol edilmek isteniyor. Çünkü bu yüksek bir oran ve gelirler incelendiğinde örtüşmüyor.\n",
    "\n",
    "**`Detaylar: `**\n",
    "- 500 kişi dış mecrada reklama tıklamış. 40 tanesi sitemize girip alışveriş yapmış.\n",
    "- Örnek üzerinden elde edilen dönüşüm oranı: 40/500 = 0.08"
   ]
  },
  {
   "cell_type": "code",
   "execution_count": 39,
   "id": "2074a9c4",
   "metadata": {},
   "outputs": [],
   "source": [
    "from statsmodels.stats.proportion import proportions_ztest"
   ]
  },
  {
   "cell_type": "code",
   "execution_count": 40,
   "id": "001af3d9",
   "metadata": {},
   "outputs": [],
   "source": [
    "count = 40\n",
    "nobs= 500\n",
    "value = 0.125"
   ]
  },
  {
   "cell_type": "code",
   "execution_count": 41,
   "id": "e0f77581",
   "metadata": {},
   "outputs": [
    {
     "data": {
      "text/plain": [
       "(-3.7090151628513017, 0.0002080669689845979)"
      ]
     },
     "execution_count": 41,
     "metadata": {},
     "output_type": "execute_result"
    }
   ],
   "source": [
    "proportions_ztest(count, nobs, value)"
   ]
  },
  {
   "cell_type": "markdown",
   "id": "a27fbe0d",
   "metadata": {},
   "source": [
    "H0 reddedilir. Çünkü p value 0.05 den küçüktür yani alfadan significance level dan daha düşük olduğu için.\n",
    "\n",
    "%95 güven ile dönüşüm oranı 0.125 den farklıdır."
   ]
  },
  {
   "cell_type": "markdown",
   "id": "fec0e278",
   "metadata": {},
   "source": [
    "## Bağımsız İki Örneklem T Testi(A/B Testi)\n",
    "\n",
    "İki grup ortalaması arasında karşılaştırma yapılmak istenildiğinde kullanılır.\n",
    "\n",
    "İki varsayım vardır.\n",
    "- 1- Normallik varsayımı (yukarıda yapmıştık shapiro-wilks)\n",
    "- 2- Varyans Homojenliği Varsayımı(Grupların varsaynslarının birbirine benzer olması ancak grupların varyansları birbirine benzer ise ben bu testi yapmanıza izin veririm diyor)"
   ]
  },
  {
   "cell_type": "markdown",
   "id": "38499abb",
   "metadata": {},
   "source": [
    "### İş Uygulaması: ML Projesinin Başarı Testi(AB Testi)\n",
    "\n",
    "**`Problem: `**\n",
    "\n",
    "Bir ML projesine yatırım yapılmış. Ürettiği tahminler neticesinde oluşan gelir ile eski sistemin ürettiği gelirler karşılaştırılıp anlamlı farklılık olup olmadığı test edilmek isteniyor. Kullanıcılara ürün öneren bir ML projesi\n",
    "\n",
    "**`Detaylar: `**\n",
    "\n",
    "- Model geliştirilmiş ve web sitesine entegre edilmiş\n",
    "- Site kullanıcıları belirli bir kurala göre ikiye bölünmüş olsun\n",
    "- A grubu eski B grubu yeni sistem\n",
    "- Gelir anlamında anlamlı bir iş yapılıp yapılmadığı test edilmek isteniyor. ML modeli anlamlı farklılık oluşturabildi mi?\n",
    "\n",
    "**Not:** ML modellerinin bile tahminlerinin ortaya çıkarttığı değerlerin başarısı test yapılarak ortaya konulabilir."
   ]
  },
  {
   "cell_type": "code",
   "execution_count": 42,
   "id": "4d908d24",
   "metadata": {},
   "outputs": [
    {
     "data": {
      "text/html": [
       "<div>\n",
       "<style scoped>\n",
       "    .dataframe tbody tr th:only-of-type {\n",
       "        vertical-align: middle;\n",
       "    }\n",
       "\n",
       "    .dataframe tbody tr th {\n",
       "        vertical-align: top;\n",
       "    }\n",
       "\n",
       "    .dataframe thead th {\n",
       "        text-align: right;\n",
       "    }\n",
       "</style>\n",
       "<table border=\"1\" class=\"dataframe\">\n",
       "  <thead>\n",
       "    <tr style=\"text-align: right;\">\n",
       "      <th></th>\n",
       "      <th>A</th>\n",
       "      <th>B</th>\n",
       "    </tr>\n",
       "  </thead>\n",
       "  <tbody>\n",
       "    <tr>\n",
       "      <th>0</th>\n",
       "      <td>30</td>\n",
       "      <td>37</td>\n",
       "    </tr>\n",
       "    <tr>\n",
       "      <th>1</th>\n",
       "      <td>27</td>\n",
       "      <td>39</td>\n",
       "    </tr>\n",
       "    <tr>\n",
       "      <th>2</th>\n",
       "      <td>21</td>\n",
       "      <td>31</td>\n",
       "    </tr>\n",
       "    <tr>\n",
       "      <th>3</th>\n",
       "      <td>27</td>\n",
       "      <td>31</td>\n",
       "    </tr>\n",
       "    <tr>\n",
       "      <th>4</th>\n",
       "      <td>29</td>\n",
       "      <td>34</td>\n",
       "    </tr>\n",
       "  </tbody>\n",
       "</table>\n",
       "</div>"
      ],
      "text/plain": [
       "    A   B\n",
       "0  30  37\n",
       "1  27  39\n",
       "2  21  31\n",
       "3  27  31\n",
       "4  29  34"
      ]
     },
     "execution_count": 42,
     "metadata": {},
     "output_type": "execute_result"
    }
   ],
   "source": [
    "# H0 : M1 = M2\n",
    "# H1 : M1 != M2\n",
    "\n",
    "A = pd.DataFrame([30,27,21,27,29,30,20,20,27,32,35,22,24,23,25,27,23,27,23,25,21,18,24,26,33,26,27,28,19,25])\n",
    "B = pd.DataFrame([37,39,31,31,34,38,30,36,29,28,38,28,37,37,30,32,31,31,27,32,33,33,33,31,32,33,26,32,33,29])\n",
    "\n",
    "A_B = pd.concat([A, B], axis=1)\n",
    "A_B.columns = [\"A\",\"B\"]\n",
    "\n",
    "A_B.head()"
   ]
  },
  {
   "cell_type": "markdown",
   "id": "0d869cc8",
   "metadata": {},
   "source": [
    "Bu veriyi fonksiyona olduğu gibi gönderdiğimizde bir hatayla karşılaşırız. Test yapmak üzere kullanacak olduğumuz ilgili fonksiyonları yazan kişiler  bunun istatiktik literatüründe olduğu şekliyle yazılmış olmasını sağladıklarından dolayı bize gerçek hayatta verinin geldiği şekli bu testi yapmaya izin vermeyecek. Bunu çalışabileceğimiz formata getirelim"
   ]
  },
  {
   "cell_type": "code",
   "execution_count": 43,
   "id": "aa6cf4c3",
   "metadata": {},
   "outputs": [
    {
     "name": "stdout",
     "output_type": "stream",
     "text": [
      "   gelir GRUP\n",
      "0     30    A\n",
      "1     27    A\n",
      "2     21    A\n",
      "3     27    A\n",
      "4     29    A\n",
      "    gelir GRUP\n",
      "25     33    B\n",
      "26     26    B\n",
      "27     32    B\n",
      "28     33    B\n",
      "29     29    B\n"
     ]
    }
   ],
   "source": [
    "A = pd.DataFrame([30,27,21,27,29,30,20,20,27,32,35,22,24,23,25,27,23,27,23,25,21,18,24,26,33,26,27,28,19,25])\n",
    "B = pd.DataFrame([37,39,31,31,34,38,30,36,29,28,38,28,37,37,30,32,31,31,27,32,33,33,33,31,32,33,26,32,33,29])\n",
    "\n",
    "# A ve A nın grubu\n",
    "GRUP_A = np.arange(len(A))\n",
    "GRUP_A = pd.DataFrame(GRUP_A)\n",
    "GRUP_A[:] = \"A\"\n",
    "A = pd.concat([A, GRUP_A], axis = 1)\n",
    "\n",
    "#B veB nin grubu\n",
    "GRUP_B = np.arange(len(B))\n",
    "GRUP_B = pd.DataFrame(GRUP_B)\n",
    "GRUP_B[:] = \"B\"\n",
    "B = pd.concat([B, GRUP_B], axis = 1)\n",
    "\n",
    "# Tüm veri\n",
    "AB = pd.concat([A,B])\n",
    "AB.columns = [\"gelir\", \"GRUP\"]\n",
    "print(AB.head())\n",
    "print(AB.tail())"
   ]
  },
  {
   "cell_type": "code",
   "execution_count": 44,
   "id": "208fed29",
   "metadata": {},
   "outputs": [
    {
     "data": {
      "image/png": "[encoded data removed]",
      "text/plain": [
       "<Figure size 432x288 with 1 Axes>"
      ]
     },
     "metadata": {
      "needs_background": "light"
     },
     "output_type": "display_data"
    }
   ],
   "source": [
    "import seaborn as sns\n",
    "sns.boxplot(x = \"GRUP\", y = \"gelir\", data=AB);"
   ]
  },
  {
   "cell_type": "markdown",
   "id": "24b9469c",
   "metadata": {},
   "source": [
    "iKİ GRUBU KARŞILAŞTIRMAK ADINA BİR BOX PLOT GRAFİĞİ OLUŞTURDUK. GÖRÜNEN O Kİ B GRUBUNUN DAHA YUKARIDA OLDUĞU GÖZLENİYOR. AMA BUNUN GERÇEKTEN İSTATİSTİKİ OLARAK ANLAMLI BİR FARKLILIK OLUP OLMADIĞINI BİLMİYORUZ. ŞANS ESERİ OLUŞUP OLUŞMADIĞINI BİLMİYORUZ. BU SEBEPLE TESTİNİ YAPMIŞ OLACAĞIZ. AMA ONDAN ÖNCE TESTE UYGUN MU DİYE VARSAYIM KONTROLLERİNİ GERÇEKLEŞTİRECEĞİZ."
   ]
  },
  {
   "cell_type": "code",
   "execution_count": 45,
   "id": "84fd4258",
   "metadata": {},
   "outputs": [
    {
     "data": {
      "text/plain": [
       "ShapiroResult(statistic=0.9789242148399353, pvalue=0.7962799668312073)"
      ]
     },
     "execution_count": 45,
     "metadata": {},
     "output_type": "execute_result"
    }
   ],
   "source": [
    "# NORMALLİK VARSAYIMI\n",
    "\n",
    "stats.shapiro(A_B.A)"
   ]
  },
  {
   "cell_type": "markdown",
   "id": "e5b9873d",
   "metadata": {},
   "source": [
    "P VALUE 0.005 DEN KÜÇÜK OLMADIĞI İÇİN H0 I REDDETMEYİZ VE NORMAL DAĞILIMA UYAR DERİZ."
   ]
  },
  {
   "cell_type": "code",
   "execution_count": 46,
   "id": "ae0cc6aa",
   "metadata": {},
   "outputs": [
    {
     "data": {
      "text/plain": [
       "ShapiroResult(statistic=0.9561260342597961, pvalue=0.24584221839904785)"
      ]
     },
     "execution_count": 46,
     "metadata": {},
     "output_type": "execute_result"
    }
   ],
   "source": [
    "stats.shapiro(A_B.B)"
   ]
  },
  {
   "cell_type": "markdown",
   "id": "27f433e1",
   "metadata": {},
   "source": [
    "P VALUE 0.005 DEN KÜÇÜK OLMADIĞI İÇİN H0 I REDDETMEYİZ VE NORMAL DAĞILIMA UYAR DERİZ."
   ]
  },
  {
   "cell_type": "code",
   "execution_count": 47,
   "id": "29f65b85",
   "metadata": {},
   "outputs": [
    {
     "data": {
      "text/plain": [
       "LeveneResult(statistic=1.1101802757158004, pvalue=0.2964124900636569)"
      ]
     },
     "execution_count": 47,
     "metadata": {},
     "output_type": "execute_result"
    }
   ],
   "source": [
    "# Varyans Homojenliği Varsayımı\n",
    "\n",
    "# h0: varyanslar homojendir\n",
    "# h1: varyanslar homojen değildir\n",
    "\n",
    "stats.levene(A_B.A, A_B.B)"
   ]
  },
  {
   "cell_type": "markdown",
   "id": "bbb9ec09",
   "metadata": {},
   "source": [
    "P VALUE 0.005 DEN KÜÇÜK OLMADIĞI İÇİN H0 I REDDETMEYİZ VE VARYANSLAR HOMOJENLİĞİ VARSAYIMININ SAĞLANDIĞI ANLAMINA GELMEKTEDİR."
   ]
  },
  {
   "cell_type": "code",
   "execution_count": 48,
   "id": "e2f64f18",
   "metadata": {},
   "outputs": [
    {
     "data": {
      "text/plain": [
       "Ttest_indResult(statistic=-7.028690967745927, pvalue=2.6233215605475075e-09)"
      ]
     },
     "execution_count": 48,
     "metadata": {},
     "output_type": "execute_result"
    }
   ],
   "source": [
    "# Artık A/B testini gerçekleştiriyoruz\n",
    "stats.ttest_ind(A_B[\"A\"], A_B[\"B\"], equal_var = True) # ind = independent"
   ]
  },
  {
   "cell_type": "markdown",
   "id": "e3b93d53",
   "metadata": {},
   "source": [
    "P VALUE DEĞERİ 0.005 DEN KÜÇÜK OLDUĞU İÇİN H0 HİPOTEZİ REDDEDİLİR. YANİ FARKLILIK VARDIR. FARKLILIK OMADIĞINI İDDİA EDEN H0 HİPOTEZİ REDDEDİLİR."
   ]
  },
  {
   "cell_type": "markdown",
   "id": "fb7b8ce7",
   "metadata": {},
   "source": [
    "### Nonparametrik Bğımsız İki Örneklem(Sample) T Testi\n",
    "\n",
    "VARSAYIM TESTİNİN SONUÇLARI NEGATİF OLDU. BU DURUMDA KULLANILACAK OLAN NONPARAMETRİK TESTİ GERÇEKLEŞTİRELİM."
   ]
  },
  {
   "cell_type": "code",
   "execution_count": 49,
   "id": "ad7fcfee",
   "metadata": {},
   "outputs": [
    {
     "data": {
      "text/plain": [
       "MannwhitneyuResult(statistic=89.5, pvalue=4.778975189306267e-08)"
      ]
     },
     "execution_count": 49,
     "metadata": {},
     "output_type": "execute_result"
    }
   ],
   "source": [
    "stats.mannwhitneyu(A_B[\"A\"], A_B[\"B\"])"
   ]
  },
  {
   "cell_type": "markdown",
   "id": "9983a67c",
   "metadata": {},
   "source": [
    "Burdada fark vardır onucuna ulaşmık olduk. Nededini bilmiyorum soru işareti?"
   ]
  },
  {
   "cell_type": "markdown",
   "id": "437b9953",
   "metadata": {},
   "source": [
    "## Bağımlı İki Örneklem Testi\n",
    "\n",
    "Bağımlı iki grup arasında karşılaştırma yapılmak istenildiğinde kullanılır.\n",
    "\n",
    "Aynı kitleye aynı örneğe iki farklı uygulama yapıldığında ve bunun sonuçları incelendiğinde bağımlılık durumu söz konusudur. Bunlara bağımlı gruplar denir. Önceki örneğimizde iki grup vardı ikisi de farklı gelirleri ifade ediyordu ve bu gelirlerin ikisi de birbirinden bağımsızdı. Burada elimizde tek kitle var bu kitleye bir işlem uygulanıyor ve daha sonra tekrar ölçüm yapılıyor. Öncesi ve sonrası bribirine bağımlı."
   ]
  },
  {
   "cell_type": "markdown",
   "id": "620b2d78",
   "metadata": {},
   "source": [
    "### İş Uygulaması: Şirket İçi Eğitimin Performans Etkisi Ölçümü\n",
    "\n",
    "**`Problem: `** Belirli uğraşlar sonucunda alınan bir eğitimin katma değer sağlayıp sağlamadığı ölçülmek isteniyor.\n",
    "\n",
    "**`Detaylar: `**\n",
    "\n",
    "- Bir departman bir konuda eğitim talep ediyor\n",
    "- Gerekli/gereksiz değerlendirmeleri neticesinde eğitim alınıyor\n",
    "- Eğitimden önce ve sonra olacak şekilde gerekli ölçümler yapılıyor\n",
    "- Eğitim sonrasında eğitimin sağladığı katma değer test edilmek isteniyor"
   ]
  },
  {
   "cell_type": "code",
   "execution_count": 50,
   "id": "56d494a5",
   "metadata": {},
   "outputs": [],
   "source": [
    "# H0: Mö = Ms # ö = öncesi, s= sonrası\n",
    "# H1 : Mö != Ms\n",
    "\n",
    "oncesi = pd.DataFrame([123,119,119,116,123,123,121,120,117,118,121,121,123,119,121,118,124,121,125,115,\n",
    "                       115,119,118,121,117,117,120,120,121,117,118,117,123,118,124,121,115,118,125,115])\n",
    "\n",
    "sonrasi = pd.DataFrame([118,127,122,132,129,123,129,132,128,130,128,138,140,130,134,134,124,140,134,129,\n",
    "                        129,138,134,124,122,126,133,127,130,130,130,132,117,130,125,129,133,120,127,123])"
   ]
  },
  {
   "cell_type": "code",
   "execution_count": 51,
   "id": "d3fbbb87",
   "metadata": {},
   "outputs": [
    {
     "data": {
      "text/html": [
       "<div>\n",
       "<style scoped>\n",
       "    .dataframe tbody tr th:only-of-type {\n",
       "        vertical-align: middle;\n",
       "    }\n",
       "\n",
       "    .dataframe tbody tr th {\n",
       "        vertical-align: top;\n",
       "    }\n",
       "\n",
       "    .dataframe thead th {\n",
       "        text-align: right;\n",
       "    }\n",
       "</style>\n",
       "<table border=\"1\" class=\"dataframe\">\n",
       "  <thead>\n",
       "    <tr style=\"text-align: right;\">\n",
       "      <th></th>\n",
       "      <th>0</th>\n",
       "    </tr>\n",
       "  </thead>\n",
       "  <tbody>\n",
       "    <tr>\n",
       "      <th>0</th>\n",
       "      <td>123</td>\n",
       "    </tr>\n",
       "    <tr>\n",
       "      <th>1</th>\n",
       "      <td>119</td>\n",
       "    </tr>\n",
       "    <tr>\n",
       "      <th>2</th>\n",
       "      <td>119</td>\n",
       "    </tr>\n",
       "    <tr>\n",
       "      <th>3</th>\n",
       "      <td>116</td>\n",
       "    </tr>\n",
       "    <tr>\n",
       "      <th>4</th>\n",
       "      <td>123</td>\n",
       "    </tr>\n",
       "  </tbody>\n",
       "</table>\n",
       "</div>"
      ],
      "text/plain": [
       "     0\n",
       "0  123\n",
       "1  119\n",
       "2  119\n",
       "3  116\n",
       "4  123"
      ]
     },
     "execution_count": 51,
     "metadata": {},
     "output_type": "execute_result"
    }
   ],
   "source": [
    "oncesi[0:5]"
   ]
  },
  {
   "cell_type": "code",
   "execution_count": 52,
   "id": "6f092571",
   "metadata": {},
   "outputs": [
    {
     "data": {
      "text/html": [
       "<div>\n",
       "<style scoped>\n",
       "    .dataframe tbody tr th:only-of-type {\n",
       "        vertical-align: middle;\n",
       "    }\n",
       "\n",
       "    .dataframe tbody tr th {\n",
       "        vertical-align: top;\n",
       "    }\n",
       "\n",
       "    .dataframe thead th {\n",
       "        text-align: right;\n",
       "    }\n",
       "</style>\n",
       "<table border=\"1\" class=\"dataframe\">\n",
       "  <thead>\n",
       "    <tr style=\"text-align: right;\">\n",
       "      <th></th>\n",
       "      <th>0</th>\n",
       "    </tr>\n",
       "  </thead>\n",
       "  <tbody>\n",
       "    <tr>\n",
       "      <th>0</th>\n",
       "      <td>118</td>\n",
       "    </tr>\n",
       "    <tr>\n",
       "      <th>1</th>\n",
       "      <td>127</td>\n",
       "    </tr>\n",
       "    <tr>\n",
       "      <th>2</th>\n",
       "      <td>122</td>\n",
       "    </tr>\n",
       "    <tr>\n",
       "      <th>3</th>\n",
       "      <td>132</td>\n",
       "    </tr>\n",
       "    <tr>\n",
       "      <th>4</th>\n",
       "      <td>129</td>\n",
       "    </tr>\n",
       "  </tbody>\n",
       "</table>\n",
       "</div>"
      ],
      "text/plain": [
       "     0\n",
       "0  118\n",
       "1  127\n",
       "2  122\n",
       "3  132\n",
       "4  129"
      ]
     },
     "execution_count": 52,
     "metadata": {},
     "output_type": "execute_result"
    }
   ],
   "source": [
    "sonrasi[0:5]"
   ]
  },
  {
   "cell_type": "code",
   "execution_count": 53,
   "id": "35dd8b89",
   "metadata": {},
   "outputs": [
    {
     "name": "stdout",
     "output_type": "stream",
     "text": [
      "'AYRIK' Veri Seti: \n",
      "\n",
      "    ONCESI  SONRASI\n",
      "0     123      118\n",
      "1     119      127\n",
      "2     119      122\n",
      "3     116      132\n",
      "4     123      129 \n",
      "\n",
      "\n",
      "'BIRLIKTE' Veri Seti:\n",
      "\n",
      "    PERFORMANS ONCESI_SONRASI\n",
      "0         123         ONCESI\n",
      "1         119         ONCESI\n",
      "2         119         ONCESI\n",
      "3         116         ONCESI\n",
      "4         123         ONCESI \n",
      "     PERFORMANS ONCESI_SONRASI\n",
      "35         129        SONRASI\n",
      "36         133        SONRASI\n",
      "37         120        SONRASI\n",
      "38         127        SONRASI\n",
      "39         123        SONRASI\n"
     ]
    }
   ],
   "source": [
    "# BIRINCI VERI SETI\n",
    "AYRIK = pd.concat([oncesi, sonrasi], axis = 1)\n",
    "AYRIK.columns = [\"ONCESI\",\"SONRASI\"]\n",
    "print(\"'AYRIK' Veri Seti: \\n\\n\", AYRIK.head(),\"\\n\\n\")\n",
    "\n",
    "#IKINCI VERI SETI\n",
    "# ONCESI FLAG/TAG OLUŞTURMA\n",
    "GRUP_ONCESI = np.arange(len(oncesi))\n",
    "GRUP_ONCESI = pd.DataFrame(GRUP_ONCESI)\n",
    "GRUP_ONCESI[:] = \"ONCESI\"\n",
    "# FLAG VE ONCESI DEĞERLERİNİ BİR ARAYA GETIRME\n",
    "A = pd.concat([oncesi, GRUP_ONCESI], axis= 1)\n",
    "# SONRASI FLAG TAGINI OLUŞTURMA\n",
    "GRUP_SONRASI = np.arange(len(sonrasi))\n",
    "GRUP_SONRASI = pd.DataFrame(GRUP_SONRASI)\n",
    "GRUP_SONRASI[:] = \"SONRASI\"\n",
    "\n",
    "#FLAG VE SONRASI DEĞERLERİNİ BİR ARAYA GETİRME \n",
    "B = pd.concat([sonrasi,GRUP_SONRASI],axis=1)\n",
    "\n",
    "# TUM VERIYI BIR ARAYA GETIRME\n",
    "BIRLIKTE = pd.concat([A,B])\n",
    "BIRLIKTE\n",
    "\n",
    "#ISIMLENDIRME\n",
    "BIRLIKTE.columns = [\"PERFORMANS\",\"ONCESI_SONRASI\"]\n",
    "print(\"'BIRLIKTE' Veri Seti:\\n\\n\", BIRLIKTE.head(), \"\\n\",BIRLIKTE.tail())"
   ]
  },
  {
   "cell_type": "code",
   "execution_count": 54,
   "id": "aa4c0a69",
   "metadata": {},
   "outputs": [
    {
     "data": {
      "image/png": "[encoded data removed]",
      "text/plain": [
       "<Figure size 432x288 with 1 Axes>"
      ]
     },
     "metadata": {
      "needs_background": "light"
     },
     "output_type": "display_data"
    }
   ],
   "source": [
    "sns.boxplot(x = \"ONCESI_SONRASI\", y = \"PERFORMANS\", data=BIRLIKTE);"
   ]
  },
  {
   "cell_type": "markdown",
   "id": "a87befdf",
   "metadata": {},
   "source": [
    "BARIZ BİR ŞEKİLDE EĞİTİMİN İŞE YARADIĞI BİLGİSİ VAR AMA BUNU İSTATİSTİKİ OLARAK SÖYLEYEMİYORUZ. ŞANS ESERİMİ OLUŞTU YOKSA GERÇEKTEN ANLAMLI MI BİLMİYORUZ. TEST YAPMAMIZ LAZIM AMA TESTTEN ÖNCE VARSAYIM KONTROLU YAPMAMIZ LAZIM."
   ]
  },
  {
   "cell_type": "code",
   "execution_count": 55,
   "id": "b9db7132",
   "metadata": {},
   "outputs": [
    {
     "data": {
      "text/plain": [
       "ShapiroResult(statistic=0.9543656706809998, pvalue=0.10722451657056808)"
      ]
     },
     "execution_count": 55,
     "metadata": {},
     "output_type": "execute_result"
    }
   ],
   "source": [
    "# Varsayım Kontrolleri\n",
    "stats.shapiro(AYRIK.ONCESI)"
   ]
  },
  {
   "cell_type": "code",
   "execution_count": 56,
   "id": "d132bab5",
   "metadata": {},
   "outputs": [
    {
     "data": {
      "text/plain": [
       "ShapiroResult(statistic=0.9780089259147644, pvalue=0.6159515380859375)"
      ]
     },
     "execution_count": 56,
     "metadata": {},
     "output_type": "execute_result"
    }
   ],
   "source": [
    "stats.shapiro(AYRIK.SONRASI)"
   ]
  },
  {
   "cell_type": "code",
   "execution_count": 57,
   "id": "2d3883a7",
   "metadata": {},
   "outputs": [
    {
     "data": {
      "text/plain": [
       "LeveneResult(statistic=8.31303288672351, pvalue=0.0050844511807370246)"
      ]
     },
     "execution_count": 57,
     "metadata": {},
     "output_type": "execute_result"
    }
   ],
   "source": [
    "stats.levene(AYRIK.ONCESI,AYRIK.SONRASI)"
   ]
  },
  {
   "cell_type": "markdown",
   "id": "6541fb4a",
   "metadata": {},
   "source": [
    "BURADA P VALUE ALFA DEĞERİMİZ OLAN 0.05 DEN DAHA KÜÇÜK ÇIKTIĞI İÇİN VARSAYIMLAR İÇİN H0 HİPOTEZİNİ REDDETMEK DURUMUNDAYIZ VE İKİNCİ VARSAYIMIMIZ OLAN VARYANSLARIN HOMOJENLİĞİ VARSAYIMI SAĞLANMAMAKTADIR. BU DURUMDA NE YAPACAĞIZ? \n",
    "\n",
    "1. SEÇENECEK: VERİ SETİ ÜZERİNDE BAZI AYKIRILIKLAR VARSA BUNLARLA İLGİLİ BELKİ DÜZENLEME İŞLEMLERİ YAPILARAK BU VARSAYIMLAR TEKRAR İNCELENEBİLİR.\n",
    "\n",
    "2. BAĞIMLI İKİ ÖRNEKLEM T TESTİNDE VARYANS HOMOJENLİĞİ İNCELENDİĞİNDE BURADA BU VARSAYIMIN SAĞLANMAMASI DURUMUNDA BU BİR MİKTAR GÖZARDI EDİLEBİLEN BİR DURUMDUR. BİZ BU DURUM GÖARDI EDİLMİŞ GİBİ DÜŞÜNEREK İLGİLİ TESTİMİZİ GERÇEKLEŞTİRMİŞ OLACAĞIZ."
   ]
  },
  {
   "cell_type": "code",
   "execution_count": 58,
   "id": "d73b8fb7",
   "metadata": {},
   "outputs": [
    {
     "data": {
      "text/plain": [
       "Ttest_relResult(statistic=-9.281533480429937, pvalue=2.0235251764440722e-11)"
      ]
     },
     "execution_count": 58,
     "metadata": {},
     "output_type": "execute_result"
    }
   ],
   "source": [
    "# hİPOTEZ TESTİ UYGULAMANMASI ADIMI\n",
    "\n",
    "stats.ttest_rel(AYRIK.ONCESI, AYRIK.SONRASI)"
   ]
  },
  {
   "cell_type": "markdown",
   "id": "afe34a39",
   "metadata": {},
   "source": [
    "P-VALUE ALFA DEĞERİ OLAN YANİ SIGNIFICANCE LEVEL DAN DÜŞÜK ÇIKTIĞI İÇİN H0 HİPOTEZİNİ REDDEDERİZ. YANİ EĞİTİM İŞE YARAMIŞTIR. VERILEN EĞİTİM "
   ]
  },
  {
   "cell_type": "markdown",
   "id": "bcc54df0",
   "metadata": {},
   "source": [
    "### Nonparametrik Bağımlı İki Örneklem Testi"
   ]
  },
  {
   "cell_type": "code",
   "execution_count": 59,
   "id": "995b7686",
   "metadata": {},
   "outputs": [
    {
     "data": {
      "text/plain": [
       "WilcoxonResult(statistic=15.0, pvalue=2.491492033374464e-07)"
      ]
     },
     "execution_count": 59,
     "metadata": {},
     "output_type": "execute_result"
    }
   ],
   "source": [
    "stats.wilcoxon(AYRIK.ONCESI, AYRIK.SONRASI)"
   ]
  },
  {
   "cell_type": "markdown",
   "id": "6e39edb2",
   "metadata": {},
   "source": [
    "P-VALUE ALFA DEĞERİ OLAN YANİ SIGNIFICANCE LEVEL DAN DÜŞÜK ÇIKTIĞI İÇİN H0 HİPOTEZİNİ REDDEDERİZ. YANİ EĞİTİM İŞE YARAMIŞTIR."
   ]
  },
  {
   "cell_type": "markdown",
   "id": "0e0e0a13",
   "metadata": {},
   "source": [
    "## İKİ ORNEKLEM ORAN TESTİ\n",
    "\n",
    "Elimizde iki tane sample var. Bu samplar oransal değerlerle temsil edilmiş bunların arasındaki farklılığa ilişkin test yapılmak istenildiğinde kullandığımız istatistiksel bir teknik."
   ]
  },
  {
   "cell_type": "markdown",
   "id": "f7045d92",
   "metadata": {},
   "source": [
    "**Not = İki örneklem oran testinde varsayım n > 30 olması iki grup içinde. Bu sağlanırsa test yapılabilir**"
   ]
  },
  {
   "cell_type": "markdown",
   "id": "83dbdf7b",
   "metadata": {},
   "source": [
    "### İş Uygulaması: Kullanıcı Arayüzü Deneyi(AB test)\n",
    "\n",
    "Hemen Al butonu kırmızı renkten yeşil renge değiştirildi. Bunun sonucundaki değişikliğe bakacaağız. Kullanıcı davranışlarına etkisine bakacağız.\n",
    "\n",
    "- Kırmızı butonu gören 1100 kişi var tıklayan 250, \n",
    "- yeşil butonu gören 1000 kişi var tıklan 300 kişi."
   ]
  },
  {
   "cell_type": "code",
   "execution_count": 60,
   "id": "25c16d68",
   "metadata": {},
   "outputs": [],
   "source": [
    "from statsmodels.stats.proportion import proportions_ztest"
   ]
  },
  {
   "cell_type": "code",
   "execution_count": 61,
   "id": "a3de5bba",
   "metadata": {},
   "outputs": [],
   "source": [
    "# H0: P1 = P2\n",
    "# H1: P1 != P2\n",
    "basari_sayisi = np.array([300, 250])\n",
    "gozlem_sayilari = np.array([1000, 1100])"
   ]
  },
  {
   "cell_type": "code",
   "execution_count": 62,
   "id": "af373277",
   "metadata": {},
   "outputs": [
    {
     "data": {
      "text/plain": [
       "(3.7857863233209255, 0.0001532232957772221)"
      ]
     },
     "execution_count": 62,
     "metadata": {},
     "output_type": "execute_result"
    }
   ],
   "source": [
    "proportions_ztest(count=basari_sayisi, nobs=gozlem_sayilari)"
   ]
  },
  {
   "cell_type": "markdown",
   "id": "f43aeb3b",
   "metadata": {},
   "source": [
    "P-VALUE DEĞERİNE GÖRE H0 REDDEDİLİR. YANİ HAZIRLANAN BUTON RENKLERİ İNCELENDİĞİNDE BU BUTONLARIN KULLANICI DAVRANIŞLARINA ETKİSİ FARKLIDIR. VE BU FARKLILIK YEŞİL BUTONUN LEHİNE OLACAK ŞEKİLDE GERÇEKLEŞMEKTEDİR. YANİ İKİ ÖRNEK ORANININ ARASINDA İSTATİSTİKİ OLARAK ANLAMLI BİR FARKLILIK VARDIR."
   ]
  },
  {
   "cell_type": "markdown",
   "id": "77d64ae7",
   "metadata": {},
   "source": [
    "## ANOVA(VARYANS ANALİZİ)\n",
    "\n",
    "İki ya da daha fazla grup arasında istatistiksel olarak anlamlı bir farklılık olup olmadığı öğrenilmek istenildiğinde kullanılır.\n",
    "\n",
    "Grupların birbirinden farklı olup olmadığı bilgisini verir\n",
    "\n",
    "ANOVA iki farklı variance'ı inceler:\n",
    "- Variance Between Groups: grup ortalamaları total mean'den ne kadar uzak\n",
    "- Variance Within Groups: herbir değer grubun ortalamasından ne kadar uzak\n",
    "\n",
    "F value bu iki variance arasındaki orandır yani (variance between groups / variance within groups)\n",
    "\n",
    "H0: M1 = M2 = M3\n",
    "\n",
    "H1: Eşit değillerdir(en az birisi farklıdır)\n",
    "\n",
    "vARYANS ANALİZİ VARSAYIMLARI:\n",
    "- Gözlemlerin birbirinden bağımsız olması(grupların)\n",
    "- Normal dağılım\n",
    "- Varyans homojenliği(buarada hassastır mutlaka karşlanması gereken varsayımlardan birisidir karşılanmadığı durumlarda alternatif yollar var)\n",
    "\n",
    "\n",
    "### İş Uygulaması: İçerik Stratejisi Belirleme\n",
    "\n",
    "**`Problem: `**Anasayfada geçirilen süre artırılmak isteniyor.\n",
    "\n",
    "**`Detaylar: `**\n",
    "\n",
    "- Bir web sitesi için başarı kriterleri: ortalama ziyaret süresi, hemen çıkış oranı vb\n",
    "- Uzun zaman geçiren kullanıcıların reklamlara daha fazla tıkladığı ve markaya olan bağlılıklarının arttığı biliniyor\n",
    "- Buna yönelik olarak benzer haberler farklı resimler ya da farklı formatlarda hazırlanarak oluşturulan test gruplarına gösteriliyor.\n",
    "- A: Doğal Şekilde, B: Yönlendirici, C: İlgi Çekici\n",
    "\n",
    "Bu üç stratejiden hangisinde daha verimli sonuç alırım?"
   ]
  },
  {
   "cell_type": "code",
   "execution_count": 63,
   "id": "861ee2c6",
   "metadata": {},
   "outputs": [
    {
     "data": {
      "text/html": [
       "<div>\n",
       "<style scoped>\n",
       "    .dataframe tbody tr th:only-of-type {\n",
       "        vertical-align: middle;\n",
       "    }\n",
       "\n",
       "    .dataframe tbody tr th {\n",
       "        vertical-align: top;\n",
       "    }\n",
       "\n",
       "    .dataframe thead th {\n",
       "        text-align: right;\n",
       "    }\n",
       "</style>\n",
       "<table border=\"1\" class=\"dataframe\">\n",
       "  <thead>\n",
       "    <tr style=\"text-align: right;\">\n",
       "      <th></th>\n",
       "      <th>GROUP_A</th>\n",
       "      <th>GROUP_B</th>\n",
       "      <th>GROUP_C</th>\n",
       "    </tr>\n",
       "  </thead>\n",
       "  <tbody>\n",
       "    <tr>\n",
       "      <th>0</th>\n",
       "      <td>28</td>\n",
       "      <td>31</td>\n",
       "      <td>40</td>\n",
       "    </tr>\n",
       "    <tr>\n",
       "      <th>1</th>\n",
       "      <td>33</td>\n",
       "      <td>32</td>\n",
       "      <td>33</td>\n",
       "    </tr>\n",
       "    <tr>\n",
       "      <th>2</th>\n",
       "      <td>30</td>\n",
       "      <td>30</td>\n",
       "      <td>38</td>\n",
       "    </tr>\n",
       "    <tr>\n",
       "      <th>3</th>\n",
       "      <td>29</td>\n",
       "      <td>30</td>\n",
       "      <td>41</td>\n",
       "    </tr>\n",
       "    <tr>\n",
       "      <th>4</th>\n",
       "      <td>28</td>\n",
       "      <td>33</td>\n",
       "      <td>42</td>\n",
       "    </tr>\n",
       "  </tbody>\n",
       "</table>\n",
       "</div>"
      ],
      "text/plain": [
       "   GROUP_A  GROUP_B  GROUP_C\n",
       "0       28       31       40\n",
       "1       33       32       33\n",
       "2       30       30       38\n",
       "3       29       30       41\n",
       "4       28       33       42"
      ]
     },
     "execution_count": 63,
     "metadata": {},
     "output_type": "execute_result"
    }
   ],
   "source": [
    "A = pd.DataFrame([28,33,30,29,28,29,27,31,30,32,28,33,25,29,27,31,31,30,31,34,30,32,31])\n",
    "\n",
    "B = pd.DataFrame([31,32,30,30,33,32,34,27,36,30,31,30,38,29,30,34,34,31,35,35,33,30,28])\n",
    "\n",
    "C = pd.DataFrame([40,33,38,41,42,43,38,35,39,39,36,34,35,40,38,36,39,36,33,35,38,35,40])\n",
    "\n",
    "dfs = [A, B, C]\n",
    "\n",
    "ABC = pd.concat(dfs, axis = 1)\n",
    "ABC.columns = [\"GROUP_A\",\"GROUP_B\",\"GROUP_C\"]\n",
    "ABC.head()"
   ]
  },
  {
   "cell_type": "code",
   "execution_count": 64,
   "id": "0e3a96d8",
   "metadata": {
    "scrolled": true
   },
   "outputs": [
    {
     "data": {
      "text/plain": [
       "ShapiroResult(statistic=0.977165162563324, pvalue=0.8526773452758789)"
      ]
     },
     "execution_count": 64,
     "metadata": {},
     "output_type": "execute_result"
    }
   ],
   "source": [
    "# Varsayım Kontrolü\n",
    "# Kullanıcılarımızı 3 gruba böldük ve bu kullanıcıların herhangi birisinin diğer grubun içerisindeki ölçümlere \n",
    "#katılmadığını varsayıyoruz\n",
    "\n",
    "\n",
    "# Shapiro-wilks\n",
    "stats.shapiro(ABC[\"GROUP_A\"])"
   ]
  },
  {
   "cell_type": "code",
   "execution_count": 65,
   "id": "685399a9",
   "metadata": {},
   "outputs": [
    {
     "data": {
      "text/plain": [
       "ShapiroResult(statistic=0.9653157591819763, pvalue=0.5784776210784912)"
      ]
     },
     "execution_count": 65,
     "metadata": {},
     "output_type": "execute_result"
    }
   ],
   "source": [
    "stats.shapiro(ABC[\"GROUP_B\"])"
   ]
  },
  {
   "cell_type": "code",
   "execution_count": 66,
   "id": "b680be56",
   "metadata": {
    "scrolled": true
   },
   "outputs": [
    {
     "data": {
      "text/plain": [
       "ShapiroResult(statistic=0.9604302644729614, pvalue=0.4721103310585022)"
      ]
     },
     "execution_count": 66,
     "metadata": {},
     "output_type": "execute_result"
    }
   ],
   "source": [
    "stats.shapiro(ABC[\"GROUP_C\"])"
   ]
  },
  {
   "cell_type": "code",
   "execution_count": 67,
   "id": "10ba973f",
   "metadata": {},
   "outputs": [
    {
     "data": {
      "text/plain": [
       "LeveneResult(statistic=0.9446786090621706, pvalue=0.3939978753114075)"
      ]
     },
     "execution_count": 67,
     "metadata": {},
     "output_type": "execute_result"
    }
   ],
   "source": [
    "# varyans homojenliği\n",
    "stats.levene(ABC[\"GROUP_A\"],ABC[\"GROUP_B\"],ABC[\"GROUP_C\"])"
   ]
  },
  {
   "cell_type": "markdown",
   "id": "e09dc708",
   "metadata": {},
   "source": [
    "Hipotezi uygulayabiliriz."
   ]
  },
  {
   "cell_type": "code",
   "execution_count": 68,
   "id": "155e38d3",
   "metadata": {},
   "outputs": [],
   "source": [
    "from scipy.stats import f_oneway"
   ]
  },
  {
   "cell_type": "code",
   "execution_count": 69,
   "id": "1df36967",
   "metadata": {
    "scrolled": true
   },
   "outputs": [
    {
     "data": {
      "text/plain": [
       "F_onewayResult(statistic=53.46714172604916, pvalue=1.566295188711795e-14)"
      ]
     },
     "execution_count": 69,
     "metadata": {},
     "output_type": "execute_result"
    }
   ],
   "source": [
    "f_oneway(ABC[\"GROUP_A\"],ABC[\"GROUP_B\"],ABC[\"GROUP_C\"])"
   ]
  },
  {
   "cell_type": "code",
   "execution_count": 70,
   "id": "c5082366",
   "metadata": {
    "scrolled": true
   },
   "outputs": [
    {
     "data": {
      "text/html": [
       "<div>\n",
       "<style scoped>\n",
       "    .dataframe tbody tr th:only-of-type {\n",
       "        vertical-align: middle;\n",
       "    }\n",
       "\n",
       "    .dataframe tbody tr th {\n",
       "        vertical-align: top;\n",
       "    }\n",
       "\n",
       "    .dataframe thead th {\n",
       "        text-align: right;\n",
       "    }\n",
       "</style>\n",
       "<table border=\"1\" class=\"dataframe\">\n",
       "  <thead>\n",
       "    <tr style=\"text-align: right;\">\n",
       "      <th></th>\n",
       "      <th>count</th>\n",
       "      <th>mean</th>\n",
       "      <th>std</th>\n",
       "      <th>min</th>\n",
       "      <th>25%</th>\n",
       "      <th>50%</th>\n",
       "      <th>75%</th>\n",
       "      <th>max</th>\n",
       "    </tr>\n",
       "  </thead>\n",
       "  <tbody>\n",
       "    <tr>\n",
       "      <th>GROUP_A</th>\n",
       "      <td>23.0</td>\n",
       "      <td>29.956522</td>\n",
       "      <td>2.184205</td>\n",
       "      <td>25.0</td>\n",
       "      <td>28.5</td>\n",
       "      <td>30.0</td>\n",
       "      <td>31.0</td>\n",
       "      <td>34.0</td>\n",
       "    </tr>\n",
       "    <tr>\n",
       "      <th>GROUP_B</th>\n",
       "      <td>23.0</td>\n",
       "      <td>31.869565</td>\n",
       "      <td>2.701924</td>\n",
       "      <td>27.0</td>\n",
       "      <td>30.0</td>\n",
       "      <td>31.0</td>\n",
       "      <td>34.0</td>\n",
       "      <td>38.0</td>\n",
       "    </tr>\n",
       "    <tr>\n",
       "      <th>GROUP_C</th>\n",
       "      <td>23.0</td>\n",
       "      <td>37.521739</td>\n",
       "      <td>2.810202</td>\n",
       "      <td>33.0</td>\n",
       "      <td>35.0</td>\n",
       "      <td>38.0</td>\n",
       "      <td>39.5</td>\n",
       "      <td>43.0</td>\n",
       "    </tr>\n",
       "  </tbody>\n",
       "</table>\n",
       "</div>"
      ],
      "text/plain": [
       "         count       mean       std   min   25%   50%   75%   max\n",
       "GROUP_A   23.0  29.956522  2.184205  25.0  28.5  30.0  31.0  34.0\n",
       "GROUP_B   23.0  31.869565  2.701924  27.0  30.0  31.0  34.0  38.0\n",
       "GROUP_C   23.0  37.521739  2.810202  33.0  35.0  38.0  39.5  43.0"
      ]
     },
     "execution_count": 70,
     "metadata": {},
     "output_type": "execute_result"
    }
   ],
   "source": [
    "ABC.describe().T"
   ]
  },
  {
   "cell_type": "markdown",
   "id": "666f82d8",
   "metadata": {},
   "source": [
    "**Yani H0 hipotezi reddedilir. Gruplar arasında istatistiki olarak anlamlı bir farklılık vardır. C grubunun istatistiki olarak diğer gruplara göre daha anlamlı katkılara sağlayabileceği gözlemlenmektedir.**"
   ]
  },
  {
   "cell_type": "markdown",
   "id": "06a6cb4a",
   "metadata": {},
   "source": [
    "### Nonparametrik Hipotez Testi\n",
    "\n",
    "Varsayalım ki veriler varsayım hipotezini geçemedi. Bu durumda aşağıdakini uygularız"
   ]
  },
  {
   "cell_type": "code",
   "execution_count": 71,
   "id": "260fb63c",
   "metadata": {},
   "outputs": [],
   "source": [
    "from scipy.stats import kruskal"
   ]
  },
  {
   "cell_type": "code",
   "execution_count": 72,
   "id": "583565de",
   "metadata": {},
   "outputs": [
    {
     "data": {
      "text/plain": [
       "KruskalResult(statistic=41.41835051661897, pvalue=1.014190318754816e-09)"
      ]
     },
     "execution_count": 72,
     "metadata": {},
     "output_type": "execute_result"
    }
   ],
   "source": [
    "kruskal(ABC[\"GROUP_A\"],ABC[\"GROUP_B\"],ABC[\"GROUP_C\"])"
   ]
  },
  {
   "cell_type": "markdown",
   "id": "576a2b1e",
   "metadata": {},
   "source": [
    "H0 hipotezi burada da reddedilir."
   ]
  },
  {
   "cell_type": "markdown",
   "id": "e9515b5b",
   "metadata": {},
   "source": [
    "## KORELASYON ANALİZİ\n",
    "\n",
    "Korelasyon anlamlılığının testi. Biz bir korelasyon bulduk ama bu anlamlı mı?\n",
    "\n",
    "p ---> burada \"ro\" anlamına geliyor\n",
    "\n",
    "H0: p = 0   (değişkenler arasında korelasyon yoktur)\n",
    "\n",
    "H1: p != 0 (değişkenler arasında anlamlı bir ilişki vardır)\n",
    "\n",
    "**Varsayımar:**\n",
    "- İki değişken içinde normallik varsayımı\n",
    "- Varsayım sağlanıyorsa Pearson korelasyon katsayısı\n",
    "- Varsayım sağlanmıyorsa Spearman korelasyon katsayısı kullanılır.\n",
    "\n",
    "\n",
    "### İş Uygulaması: Bahşiş ile Ödenen Hesap Arasındaki İlişkinin İncelenmesi\n",
    "\n",
    "Bahşiş ile ödenen hesap arasında korelasyon var mı?\n",
    "\n",
    "H0: p = 0  (bahşiş ile ödenen hesap arasında korelasyon arasında yoktur)\n",
    "\n",
    "H1: p != 0 (bahşiş ile ödenen hesap arasında korelasyon arasında vardır)"
   ]
  },
  {
   "cell_type": "code",
   "execution_count": 73,
   "id": "cddfba1a",
   "metadata": {},
   "outputs": [
    {
     "data": {
      "text/html": [
       "<div>\n",
       "<style scoped>\n",
       "    .dataframe tbody tr th:only-of-type {\n",
       "        vertical-align: middle;\n",
       "    }\n",
       "\n",
       "    .dataframe tbody tr th {\n",
       "        vertical-align: top;\n",
       "    }\n",
       "\n",
       "    .dataframe thead th {\n",
       "        text-align: right;\n",
       "    }\n",
       "</style>\n",
       "<table border=\"1\" class=\"dataframe\">\n",
       "  <thead>\n",
       "    <tr style=\"text-align: right;\">\n",
       "      <th></th>\n",
       "      <th>total_bill</th>\n",
       "      <th>tip</th>\n",
       "      <th>sex</th>\n",
       "      <th>smoker</th>\n",
       "      <th>day</th>\n",
       "      <th>time</th>\n",
       "      <th>size</th>\n",
       "    </tr>\n",
       "  </thead>\n",
       "  <tbody>\n",
       "    <tr>\n",
       "      <th>0</th>\n",
       "      <td>16.99</td>\n",
       "      <td>1.01</td>\n",
       "      <td>Female</td>\n",
       "      <td>No</td>\n",
       "      <td>Sun</td>\n",
       "      <td>Dinner</td>\n",
       "      <td>2</td>\n",
       "    </tr>\n",
       "    <tr>\n",
       "      <th>1</th>\n",
       "      <td>10.34</td>\n",
       "      <td>1.66</td>\n",
       "      <td>Male</td>\n",
       "      <td>No</td>\n",
       "      <td>Sun</td>\n",
       "      <td>Dinner</td>\n",
       "      <td>3</td>\n",
       "    </tr>\n",
       "    <tr>\n",
       "      <th>2</th>\n",
       "      <td>21.01</td>\n",
       "      <td>3.50</td>\n",
       "      <td>Male</td>\n",
       "      <td>No</td>\n",
       "      <td>Sun</td>\n",
       "      <td>Dinner</td>\n",
       "      <td>3</td>\n",
       "    </tr>\n",
       "    <tr>\n",
       "      <th>3</th>\n",
       "      <td>23.68</td>\n",
       "      <td>3.31</td>\n",
       "      <td>Male</td>\n",
       "      <td>No</td>\n",
       "      <td>Sun</td>\n",
       "      <td>Dinner</td>\n",
       "      <td>2</td>\n",
       "    </tr>\n",
       "    <tr>\n",
       "      <th>4</th>\n",
       "      <td>24.59</td>\n",
       "      <td>3.61</td>\n",
       "      <td>Female</td>\n",
       "      <td>No</td>\n",
       "      <td>Sun</td>\n",
       "      <td>Dinner</td>\n",
       "      <td>4</td>\n",
       "    </tr>\n",
       "  </tbody>\n",
       "</table>\n",
       "</div>"
      ],
      "text/plain": [
       "   total_bill   tip     sex smoker  day    time  size\n",
       "0       16.99  1.01  Female     No  Sun  Dinner     2\n",
       "1       10.34  1.66    Male     No  Sun  Dinner     3\n",
       "2       21.01  3.50    Male     No  Sun  Dinner     3\n",
       "3       23.68  3.31    Male     No  Sun  Dinner     2\n",
       "4       24.59  3.61  Female     No  Sun  Dinner     4"
      ]
     },
     "execution_count": 73,
     "metadata": {},
     "output_type": "execute_result"
    }
   ],
   "source": [
    "# total_bill : bahşiş ve vergi dahil\n",
    "\n",
    "tips = sns.load_dataset('tips')\n",
    "df = tips.copy()\n",
    "df.head()"
   ]
  },
  {
   "cell_type": "code",
   "execution_count": 74,
   "id": "fbe33f14",
   "metadata": {},
   "outputs": [],
   "source": [
    "df['total_bill'] = df['total_bill'] - df['tip']"
   ]
  },
  {
   "cell_type": "code",
   "execution_count": 75,
   "id": "e05a176e",
   "metadata": {},
   "outputs": [
    {
     "data": {
      "text/html": [
       "<div>\n",
       "<style scoped>\n",
       "    .dataframe tbody tr th:only-of-type {\n",
       "        vertical-align: middle;\n",
       "    }\n",
       "\n",
       "    .dataframe tbody tr th {\n",
       "        vertical-align: top;\n",
       "    }\n",
       "\n",
       "    .dataframe thead th {\n",
       "        text-align: right;\n",
       "    }\n",
       "</style>\n",
       "<table border=\"1\" class=\"dataframe\">\n",
       "  <thead>\n",
       "    <tr style=\"text-align: right;\">\n",
       "      <th></th>\n",
       "      <th>total_bill</th>\n",
       "      <th>tip</th>\n",
       "      <th>sex</th>\n",
       "      <th>smoker</th>\n",
       "      <th>day</th>\n",
       "      <th>time</th>\n",
       "      <th>size</th>\n",
       "    </tr>\n",
       "  </thead>\n",
       "  <tbody>\n",
       "    <tr>\n",
       "      <th>0</th>\n",
       "      <td>15.98</td>\n",
       "      <td>1.01</td>\n",
       "      <td>Female</td>\n",
       "      <td>No</td>\n",
       "      <td>Sun</td>\n",
       "      <td>Dinner</td>\n",
       "      <td>2</td>\n",
       "    </tr>\n",
       "    <tr>\n",
       "      <th>1</th>\n",
       "      <td>8.68</td>\n",
       "      <td>1.66</td>\n",
       "      <td>Male</td>\n",
       "      <td>No</td>\n",
       "      <td>Sun</td>\n",
       "      <td>Dinner</td>\n",
       "      <td>3</td>\n",
       "    </tr>\n",
       "    <tr>\n",
       "      <th>2</th>\n",
       "      <td>17.51</td>\n",
       "      <td>3.50</td>\n",
       "      <td>Male</td>\n",
       "      <td>No</td>\n",
       "      <td>Sun</td>\n",
       "      <td>Dinner</td>\n",
       "      <td>3</td>\n",
       "    </tr>\n",
       "    <tr>\n",
       "      <th>3</th>\n",
       "      <td>20.37</td>\n",
       "      <td>3.31</td>\n",
       "      <td>Male</td>\n",
       "      <td>No</td>\n",
       "      <td>Sun</td>\n",
       "      <td>Dinner</td>\n",
       "      <td>2</td>\n",
       "    </tr>\n",
       "    <tr>\n",
       "      <th>4</th>\n",
       "      <td>20.98</td>\n",
       "      <td>3.61</td>\n",
       "      <td>Female</td>\n",
       "      <td>No</td>\n",
       "      <td>Sun</td>\n",
       "      <td>Dinner</td>\n",
       "      <td>4</td>\n",
       "    </tr>\n",
       "  </tbody>\n",
       "</table>\n",
       "</div>"
      ],
      "text/plain": [
       "   total_bill   tip     sex smoker  day    time  size\n",
       "0       15.98  1.01  Female     No  Sun  Dinner     2\n",
       "1        8.68  1.66    Male     No  Sun  Dinner     3\n",
       "2       17.51  3.50    Male     No  Sun  Dinner     3\n",
       "3       20.37  3.31    Male     No  Sun  Dinner     2\n",
       "4       20.98  3.61  Female     No  Sun  Dinner     4"
      ]
     },
     "execution_count": 75,
     "metadata": {},
     "output_type": "execute_result"
    }
   ],
   "source": [
    "df.head()"
   ]
  },
  {
   "cell_type": "code",
   "execution_count": 76,
   "id": "7101c363",
   "metadata": {},
   "outputs": [
    {
     "data": {
      "image/png": "[encoded data removed]",
      "text/plain": [
       "<Figure size 432x288 with 1 Axes>"
      ]
     },
     "metadata": {
      "needs_background": "light"
     },
     "output_type": "display_data"
    }
   ],
   "source": [
    "df.plot.scatter(\"tip\",\"total_bill\");"
   ]
  },
  {
   "cell_type": "code",
   "execution_count": 77,
   "id": "29c3c4f8",
   "metadata": {},
   "outputs": [
    {
     "data": {
      "text/plain": [
       "0.5766634471096382"
      ]
     },
     "execution_count": 77,
     "metadata": {},
     "output_type": "execute_result"
    }
   ],
   "source": [
    "df['tip'].corr(df[\"total_bill\"]) ## pearson korelasyon katsayısını verir."
   ]
  },
  {
   "cell_type": "code",
   "execution_count": 78,
   "id": "ee4be73d",
   "metadata": {},
   "outputs": [
    {
     "data": {
      "text/plain": [
       "0.593691939408997"
      ]
     },
     "execution_count": 78,
     "metadata": {},
     "output_type": "execute_result"
    }
   ],
   "source": [
    "df['tip'].corr(df[\"total_bill\"], method = \"spearman\") ## spearman korelasyon katsayısını verir."
   ]
  },
  {
   "cell_type": "markdown",
   "id": "63abbb13",
   "metadata": {},
   "source": [
    "Hesap arttıkça tip artmış olduğunu görüyoruz."
   ]
  },
  {
   "cell_type": "code",
   "execution_count": 79,
   "id": "1551dda2",
   "metadata": {},
   "outputs": [
    {
     "data": {
      "text/plain": [
       "ShapiroResult(statistic=0.897811233997345, pvalue=8.20057563521992e-12)"
      ]
     },
     "execution_count": 79,
     "metadata": {},
     "output_type": "execute_result"
    }
   ],
   "source": [
    "# Varsayım Kontrolü\n",
    "\n",
    "stats.shapiro(df[\"tip\"])"
   ]
  },
  {
   "cell_type": "code",
   "execution_count": 80,
   "id": "4c3f65ea",
   "metadata": {},
   "outputs": [
    {
     "data": {
      "text/plain": [
       "ShapiroResult(statistic=0.9135652184486389, pvalue=1.1060377613780759e-10)"
      ]
     },
     "execution_count": 80,
     "metadata": {},
     "output_type": "execute_result"
    }
   ],
   "source": [
    "stats.shapiro(df[\"total_bill\"])"
   ]
  },
  {
   "cell_type": "markdown",
   "id": "e1d03b8f",
   "metadata": {},
   "source": [
    "İki değişken içinde normallik varsayımının sağlanmadığını görüyoruz. Bu yüzden H0 reddemeyiz. Şimdi sağlanıyormuş gibi parametrik testimizi yapalım daha sonra asıl testi yapacağız. "
   ]
  },
  {
   "cell_type": "code",
   "execution_count": 81,
   "id": "03a9b6d6",
   "metadata": {},
   "outputs": [
    {
     "data": {
      "text/plain": [
       "(0.5766634471096377, 5.01829008494899e-23)"
      ]
     },
     "execution_count": 81,
     "metadata": {},
     "output_type": "execute_result"
    }
   ],
   "source": [
    "# Anlamlılığın testi pearson için\n",
    "\n",
    "from scipy.stats.stats import pearsonr\n",
    "\n",
    "pearsonr(df[\"tip\"], df[\"total_bill\"])"
   ]
  },
  {
   "cell_type": "markdown",
   "id": "d251ab5d",
   "metadata": {},
   "source": [
    "Değişkenler arasında anlamlı bir ilişki yoktur diyen H0 hipotezini reddediyoruz. Yani değişkenler arasında anlamlı bir ilişki bir korelasyon vardır."
   ]
  },
  {
   "cell_type": "markdown",
   "id": "c777730e",
   "metadata": {},
   "source": [
    "### Nonparametrik Korelasyon Testi"
   ]
  },
  {
   "cell_type": "code",
   "execution_count": 82,
   "id": "da9e4fc2",
   "metadata": {},
   "outputs": [
    {
     "data": {
      "text/plain": [
       "SpearmanrResult(correlation=0.593691939408997, pvalue=1.2452285137560276e-24)"
      ]
     },
     "execution_count": 82,
     "metadata": {},
     "output_type": "execute_result"
    }
   ],
   "source": [
    "# Anlamlılığın testi spearman için\n",
    "\n",
    "stats.spearmanr(df[\"tip\"], df[\"total_bill\"])"
   ]
  },
  {
   "cell_type": "markdown",
   "id": "0fa9f3ca",
   "metadata": {},
   "source": [
    "Değişkenler arasında anlamlı bir ilişki yoktur diyen H0 hipotezini reddediyoruz. Yani değişkenler arasında anlamlı bir ilişki bir korelasyon vardır. Orta şiddetli bir ilişkidir ve bu anlamlıdır."
   ]
  },
  {
   "cell_type": "code",
   "execution_count": 83,
   "id": "0bac5e05",
   "metadata": {},
   "outputs": [
    {
     "data": {
      "text/plain": [
       "KendalltauResult(correlation=0.4400790074919885, pvalue=7.131027725873721e-24)"
      ]
     },
     "execution_count": 83,
     "metadata": {},
     "output_type": "execute_result"
    }
   ],
   "source": [
    "stats.kendalltau(df[\"tip\"], df[\"total_bill\"])"
   ]
  },
  {
   "cell_type": "markdown",
   "id": "9e39fcd6",
   "metadata": {},
   "source": [
    "Burada korelasyon katsayısı biraz daha düşük çıktı daha temkinli bir katsayı hesapalaması. Alternatiftir spearman yeterli nonparametrikler için"
   ]
  },
  {
   "cell_type": "markdown",
   "id": "ac429ae0",
   "metadata": {},
   "source": [
    "## CHI-SQUARE"
   ]
  },
  {
   "cell_type": "markdown",
   "id": "fa5290ae",
   "metadata": {},
   "source": [
    "- Bir internet kafemiz var\n",
    "- Burada 7 tane bilgisayar var.\n",
    "- Bu 7 bilgisayarın çökme olasılığı birbiriyle aynıdır.\n",
    "- Yani expected = failure rahe should be same for all computers\n",
    "- Bilgisayarlar birbiri ile independent\n",
    "- Observations: 1(5) - 2(7) - 3(9) - 4(4) - 5(1) - 6(10) - 7(6)\n",
    "- Null hypothesis= observation değerlerinin bu şekilde çıkması istatistiksel olarak %95 olasılık ile mantıklıdır(uygundur,doğrudur)\n",
    "- Toplam çökme 42\n",
    "- Expected value = 42 / 7 (Çünkü expected a 7 bilgisayarın çökme olasılığı birbiriyle eşit dedik)\n",
    "- degrees of freedom = 7 - 1 = 6"
   ]
  },
  {
   "cell_type": "code",
   "execution_count": 84,
   "id": "d9e9804b",
   "metadata": {},
   "outputs": [
    {
     "name": "stdout",
     "output_type": "stream",
     "text": [
      "total:  42\n",
      "expected:  6.0\n",
      "chi-value:  9.333333333333334\n"
     ]
    }
   ],
   "source": [
    "observation = np.array([5,7,9,4,1,10,6])\n",
    "print(\"total: \", np.sum(observation))\n",
    "expected = np.sum(observation) / len(observation)\n",
    "print(\"expected: \",expected)\n",
    "chi_value = np.sum(((observation - expected)**2)/expected)\n",
    "print(\"chi-value: \",chi_value)"
   ]
  },
  {
   "cell_type": "code",
   "execution_count": 85,
   "id": "2f23675a",
   "metadata": {},
   "outputs": [
    {
     "name": "stdout",
     "output_type": "stream",
     "text": [
      "critical_value:  12.59158724374398\n"
     ]
    }
   ],
   "source": [
    "from scipy.stats import chi2\n",
    "print(\"critical_value: \",chi2.isf(0.05,6))"
   ]
  },
  {
   "cell_type": "markdown",
   "id": "6f8802da",
   "metadata": {},
   "source": [
    "**Yorum:** critical_value chi_value dan yüksek çıktığı için H0 hipotezini reddedemeyiz. Yani fail to reject null hypothesis. observation değerlerinin bu şekilde çıkması istatistiksel olarak %95 olasılık ile mantıklıdır."
   ]
  }
 ],
 "metadata": {
  "kernelspec": {
   "display_name": "Python 3",
   "language": "python",
   "name": "python3"
  },
  "language_info": {
   "codemirror_mode": {
    "name": "ipython",
    "version": 3
   },
   "file_extension": ".py",
   "mimetype": "text/x-python",
   "name": "python",
   "nbconvert_exporter": "python",
   "pygments_lexer": "ipython3",
   "version": "3.8.8"
  }
 },
 "nbformat": 4,
 "nbformat_minor": 5
}
